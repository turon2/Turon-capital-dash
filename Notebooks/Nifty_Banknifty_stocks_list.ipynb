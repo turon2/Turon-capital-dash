{
 "cells": [
  {
   "cell_type": "markdown",
   "id": "48606b62",
   "metadata": {},
   "source": [
    "## Loading Libraries and establishing connection to the database"
   ]
  },
  {
   "cell_type": "code",
   "execution_count": 3,
   "id": "c359a94f",
   "metadata": {},
   "outputs": [],
   "source": [
    "import pymysql\n",
    "import pandas as pd\n",
    "import yfinance as yf\n",
    "\n",
    "conn = pymysql.connect(host = '130.211.219.71',port=int(3306),user='root',passwd='Nodal@987',db='nodalDB')\n",
    "cur = conn.cursor()"
   ]
  },
  {
   "cell_type": "markdown",
   "id": "c1ce0ca4",
   "metadata": {},
   "source": [
    "## Nifty and Banknifty stocks"
   ]
  },
  {
   "cell_type": "code",
   "execution_count": 2,
   "id": "46f2e015",
   "metadata": {},
   "outputs": [],
   "source": [
    "nifty = pd.read_csv(\"nifty.csv\")\n",
    "banknifty = pd.read_csv(\"banknifty.csv\")"
   ]
  },
  {
   "cell_type": "code",
   "execution_count": 3,
   "id": "014eeac8",
   "metadata": {},
   "outputs": [],
   "source": [
    "nifty_list = nifty['Symbol'].tolist()\n",
    "banknifty_list = banknifty['Symbol'].tolist()"
   ]
  },
  {
   "cell_type": "code",
   "execution_count": 4,
   "id": "7b6a96be",
   "metadata": {},
   "outputs": [
    {
     "name": "stdout",
     "output_type": "stream",
     "text": [
      "['ADANIPORTS', 'ASIANPAINT', 'AXISBANK', 'BAJAJ-AUTO', 'BAJFINANCE', 'BAJAJFINSV', 'BPCL', 'BHARTIARTL', 'BRITANNIA', 'CIPLA', 'COALINDIA', 'DIVISLAB', 'DRREDDY', 'EICHERMOT', 'GRASIM', 'HCLTECH', 'HDFCBANK', 'HDFCLIFE', 'HEROMOTOCO', 'HINDALCO', 'HINDUNILVR', 'HDFC', 'ICICIBANK', 'ITC', 'IOC', 'INDUSINDBK', 'INFY', 'JSWSTEEL', 'KOTAKBANK', 'LT', 'M&M', 'MARUTI', 'NTPC', 'NESTLEIND', 'ONGC', 'POWERGRID', 'RELIANCE', 'SBILIFE', 'SHREECEM', 'SBIN', 'SUNPHARMA', 'TCS', 'TATACONSUM', 'TATAMOTORS', 'TATASTEEL', 'TECHM', 'TITAN', 'UPL', 'ULTRACEMCO', 'WIPRO']\n",
      "50\n",
      "['AUBANK', 'AXISBANK', 'BANDHANBNK', 'FEDERALBNK', 'HDFCBANK', 'ICICIBANK', 'IDFCFIRSTB', 'INDUSINDBK', 'KOTAKBANK', 'PNB', 'RBLBANK', 'SBIN']\n",
      "12\n",
      "['ADANIPORTS', 'ASIANPAINT', 'AUBANK', 'AXISBANK', 'BAJAJ-AUTO', 'BAJAJFINSV', 'BAJFINANCE', 'BANDHANBNK', 'BHARTIARTL', 'BPCL', 'BRITANNIA', 'CIPLA', 'COALINDIA', 'DIVISLAB', 'DRREDDY', 'EICHERMOT', 'FEDERALBNK', 'GRASIM', 'HCLTECH', 'HDFC', 'HDFCBANK', 'HDFCLIFE', 'HEROMOTOCO', 'HINDALCO', 'HINDUNILVR', 'ICICIBANK', 'IDFCFIRSTB', 'INDUSINDBK', 'INFY', 'IOC', 'ITC', 'JSWSTEEL', 'KOTAKBANK', 'LT', 'M&M', 'MARUTI', 'NESTLEIND', 'NTPC', 'ONGC', 'PNB', 'POWERGRID', 'RBLBANK', 'RELIANCE', 'SBILIFE', 'SBIN', 'SHREECEM', 'SUNPHARMA', 'TATACONSUM', 'TATAMOTORS', 'TATASTEEL', 'TCS', 'TECHM', 'TITAN', 'ULTRACEMCO', 'UPL', 'WIPRO']\n",
      "56\n"
     ]
    }
   ],
   "source": [
    "print(nifty_list)\n",
    "print(len(nifty_list))\n",
    "print(banknifty_list)\n",
    "print(len(banknifty_list))\n",
    "final_list = list(sorted(set(nifty_list) | set(banknifty_list)))\n",
    "print(final_list)\n",
    "print(len(final_list))"
   ]
  },
  {
   "cell_type": "markdown",
   "id": "6b6200e8",
   "metadata": {},
   "source": [
    "## Function to add data to the database table"
   ]
  },
  {
   "cell_type": "code",
   "execution_count": null,
   "id": "4840f480",
   "metadata": {},
   "outputs": [],
   "source": [
    "from time import gmtime, strftime\n",
    "\n",
    "def add_data(stock_name = \"\", start_date = \"\", end_date = \"\"):\n",
    "    name = stock_name + \".NS\"\n",
    "    stock = yf.download(name, start=start_date, end=end_date, progress=False,)\n",
    "    stock.dropna(inplace = True)\n",
    "    stock.reset_index(inplace = True)\n",
    "    stock.rename(columns = {'Date':'trading_date', 'Open' : 'open', 'High' : 'high','Low' : 'low','Close' : 'close', 'Adj Close' : 'adj_close', 'Volume' : 'volume'}, inplace = True)\n",
    "    stock_name = stock_name\n",
    "    stock['stock_name'] = [stock_name] * stock.shape[0]\n",
    "    stock['timestamp'] = [strftime(\"%Y-%m-%d %H:%M:%S\", gmtime())] * stock.shape[0]\n",
    "    \n",
    "    for i,row in stock.iterrows():\n",
    "        sql = \"\"\"INSERT INTO nifty_banknifty_stocks_list(trading_date, open, high, low, close, adj_close, volume, stock_name, timestamp) \n",
    "                 VALUES (%s,%s,%s,%s,%s,%s,%s,%s,%s)\"\"\"\n",
    "        cur.execute(sql,tuple(row))\n",
    "        print(\"Record Added\", i)\n",
    "    conn.commit()"
   ]
  },
  {
   "cell_type": "code",
   "execution_count": null,
   "id": "6da891ff",
   "metadata": {
    "scrolled": true
   },
   "outputs": [],
   "source": [
    "for stocks in final_list:\n",
    "    print(\"Trying to add {} in the database\".format(stocks))\n",
    "    add_data(stock_name = stocks,start_date = '2015-01-01',end_date = '2021-11-01')\n",
    "    print(stocks, \"is added successfully to the database.\")"
   ]
  },
  {
   "cell_type": "markdown",
   "id": "112ce094",
   "metadata": {},
   "source": [
    "## Fetching the data from the database table"
   ]
  },
  {
   "cell_type": "code",
   "execution_count": 4,
   "id": "c96e935f",
   "metadata": {},
   "outputs": [
    {
     "data": {
      "text/html": [
       "<div>\n",
       "<style scoped>\n",
       "    .dataframe tbody tr th:only-of-type {\n",
       "        vertical-align: middle;\n",
       "    }\n",
       "\n",
       "    .dataframe tbody tr th {\n",
       "        vertical-align: top;\n",
       "    }\n",
       "\n",
       "    .dataframe thead th {\n",
       "        text-align: right;\n",
       "    }\n",
       "</style>\n",
       "<table border=\"1\" class=\"dataframe\">\n",
       "  <thead>\n",
       "    <tr style=\"text-align: right;\">\n",
       "      <th></th>\n",
       "      <th>id</th>\n",
       "      <th>trading_date</th>\n",
       "      <th>open</th>\n",
       "      <th>high</th>\n",
       "      <th>low</th>\n",
       "      <th>close</th>\n",
       "      <th>adj_close</th>\n",
       "      <th>volume</th>\n",
       "      <th>stock_name</th>\n",
       "      <th>timestamp</th>\n",
       "    </tr>\n",
       "  </thead>\n",
       "  <tbody>\n",
       "    <tr>\n",
       "      <th>0</th>\n",
       "      <td>57</td>\n",
       "      <td>2015-01-01 00:00:00</td>\n",
       "      <td>319</td>\n",
       "      <td>322.5</td>\n",
       "      <td>316.25</td>\n",
       "      <td>319.54998779296875</td>\n",
       "      <td>308.71337890625</td>\n",
       "      <td>1456204</td>\n",
       "      <td>ADANIPORTS</td>\n",
       "      <td>2021-12-29 00:08:44</td>\n",
       "    </tr>\n",
       "    <tr>\n",
       "      <th>1</th>\n",
       "      <td>58</td>\n",
       "      <td>2015-01-02 00:00:00</td>\n",
       "      <td>319.3500061035156</td>\n",
       "      <td>325.79998779296875</td>\n",
       "      <td>318.04998779296875</td>\n",
       "      <td>319.3500061035156</td>\n",
       "      <td>308.5201721191406</td>\n",
       "      <td>2894058</td>\n",
       "      <td>ADANIPORTS</td>\n",
       "      <td>2021-12-29 00:08:44</td>\n",
       "    </tr>\n",
       "    <tr>\n",
       "      <th>2</th>\n",
       "      <td>59</td>\n",
       "      <td>2015-01-05 00:00:00</td>\n",
       "      <td>320.45001220703125</td>\n",
       "      <td>327.5</td>\n",
       "      <td>319.3500061035156</td>\n",
       "      <td>323.79998779296875</td>\n",
       "      <td>312.81927490234375</td>\n",
       "      <td>2099786</td>\n",
       "      <td>ADANIPORTS</td>\n",
       "      <td>2021-12-29 00:08:44</td>\n",
       "    </tr>\n",
       "    <tr>\n",
       "      <th>3</th>\n",
       "      <td>60</td>\n",
       "      <td>2015-01-06 00:00:00</td>\n",
       "      <td>321.6499938964844</td>\n",
       "      <td>331.45001220703125</td>\n",
       "      <td>315.6000061035156</td>\n",
       "      <td>321.8500061035156</td>\n",
       "      <td>310.9354248046875</td>\n",
       "      <td>3672197</td>\n",
       "      <td>ADANIPORTS</td>\n",
       "      <td>2021-12-29 00:08:44</td>\n",
       "    </tr>\n",
       "    <tr>\n",
       "      <th>4</th>\n",
       "      <td>61</td>\n",
       "      <td>2015-01-07 00:00:00</td>\n",
       "      <td>321.95001220703125</td>\n",
       "      <td>328.70001220703125</td>\n",
       "      <td>317.3999938964844</td>\n",
       "      <td>321.1000061035156</td>\n",
       "      <td>310.2108154296875</td>\n",
       "      <td>2981544</td>\n",
       "      <td>ADANIPORTS</td>\n",
       "      <td>2021-12-29 00:08:44</td>\n",
       "    </tr>\n",
       "  </tbody>\n",
       "</table>\n",
       "</div>"
      ],
      "text/plain": [
       "   id         trading_date                open                high  \\\n",
       "0  57  2015-01-01 00:00:00                 319               322.5   \n",
       "1  58  2015-01-02 00:00:00   319.3500061035156  325.79998779296875   \n",
       "2  59  2015-01-05 00:00:00  320.45001220703125               327.5   \n",
       "3  60  2015-01-06 00:00:00   321.6499938964844  331.45001220703125   \n",
       "4  61  2015-01-07 00:00:00  321.95001220703125  328.70001220703125   \n",
       "\n",
       "                  low               close           adj_close   volume  \\\n",
       "0              316.25  319.54998779296875     308.71337890625  1456204   \n",
       "1  318.04998779296875   319.3500061035156   308.5201721191406  2894058   \n",
       "2   319.3500061035156  323.79998779296875  312.81927490234375  2099786   \n",
       "3   315.6000061035156   321.8500061035156   310.9354248046875  3672197   \n",
       "4   317.3999938964844   321.1000061035156   310.2108154296875  2981544   \n",
       "\n",
       "   stock_name            timestamp  \n",
       "0  ADANIPORTS  2021-12-29 00:08:44  \n",
       "1  ADANIPORTS  2021-12-29 00:08:44  \n",
       "2  ADANIPORTS  2021-12-29 00:08:44  \n",
       "3  ADANIPORTS  2021-12-29 00:08:44  \n",
       "4  ADANIPORTS  2021-12-29 00:08:44  "
      ]
     },
     "execution_count": 4,
     "metadata": {},
     "output_type": "execute_result"
    }
   ],
   "source": [
    "df = pd.read_sql_query(\"SELECT * FROM nifty_banknifty_stocks_list \",conn)\n",
    "df.head()"
   ]
  },
  {
   "cell_type": "code",
   "execution_count": 5,
   "id": "30190160",
   "metadata": {},
   "outputs": [
    {
     "name": "stdout",
     "output_type": "stream",
     "text": [
      "<class 'pandas.core.frame.DataFrame'>\n",
      "RangeIndex: 90989 entries, 0 to 90988\n",
      "Data columns (total 10 columns):\n",
      " #   Column        Non-Null Count  Dtype \n",
      "---  ------        --------------  ----- \n",
      " 0   id            90989 non-null  int64 \n",
      " 1   trading_date  90989 non-null  object\n",
      " 2   open          90989 non-null  object\n",
      " 3   high          90989 non-null  object\n",
      " 4   low           90989 non-null  object\n",
      " 5   close         90989 non-null  object\n",
      " 6   adj_close     90989 non-null  object\n",
      " 7   volume        90989 non-null  object\n",
      " 8   stock_name    90989 non-null  object\n",
      " 9   timestamp     90989 non-null  object\n",
      "dtypes: int64(1), object(9)\n",
      "memory usage: 6.9+ MB\n"
     ]
    }
   ],
   "source": [
    "df.info()"
   ]
  },
  {
   "cell_type": "code",
   "execution_count": 6,
   "id": "98380c5b",
   "metadata": {},
   "outputs": [],
   "source": [
    "df.to_csv(\"nifty_banknifty_stocks_list.csv\")"
   ]
  },
  {
   "cell_type": "code",
   "execution_count": null,
   "id": "ca08df89",
   "metadata": {},
   "outputs": [],
   "source": []
  }
 ],
 "metadata": {
  "kernelspec": {
   "display_name": "Python 3 (ipykernel)",
   "language": "python",
   "name": "python3"
  },
  "language_info": {
   "codemirror_mode": {
    "name": "ipython",
    "version": 3
   },
   "file_extension": ".py",
   "mimetype": "text/x-python",
   "name": "python",
   "nbconvert_exporter": "python",
   "pygments_lexer": "ipython3",
   "version": "3.9.10"
  }
 },
 "nbformat": 4,
 "nbformat_minor": 5
}
