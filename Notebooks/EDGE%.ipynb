{
 "cells": [
  {
   "cell_type": "code",
   "execution_count": 9,
   "id": "fb012158",
   "metadata": {},
   "outputs": [],
   "source": [
    "import pandas as pd\n",
    "import numpy as np\n",
    "import mibian\n",
    "import csv\n",
    "import json\n",
    "import pymysql\n",
    "import pandas as pd\n",
    "import requests\n",
    "from time import gmtime, strftime\n",
    "import pandas_datareader as pdr\n",
    "import datetime as dt\n",
    "import datetime\n",
    "\n",
    "from datetime import date, timedelta"
   ]
  },
  {
   "cell_type": "code",
   "execution_count": 10,
   "id": "91f1048e",
   "metadata": {},
   "outputs": [
    {
     "ename": "NameError",
     "evalue": "name 'one_yr_back' is not defined",
     "output_type": "error",
     "traceback": [
      "\u001b[1;31m---------------------------------------------------------------------------\u001b[0m",
      "\u001b[1;31mNameError\u001b[0m                                 Traceback (most recent call last)",
      "\u001b[1;32m<ipython-input-10-139ed64ad2bf>\u001b[0m in \u001b[0;36m<module>\u001b[1;34m\u001b[0m\n\u001b[1;32m----> 1\u001b[1;33m \u001b[1;32mfor\u001b[0m \u001b[0mi\u001b[0m \u001b[1;32min\u001b[0m \u001b[0mrange\u001b[0m\u001b[1;33m(\u001b[0m\u001b[1;36m12\u001b[0m\u001b[1;33m-\u001b[0m\u001b[0mint\u001b[0m\u001b[1;33m(\u001b[0m\u001b[0mone_yr_back\u001b[0m\u001b[1;33m.\u001b[0m\u001b[0mmonth\u001b[0m\u001b[1;33m)\u001b[0m\u001b[1;33m)\u001b[0m\u001b[1;33m:\u001b[0m\u001b[1;33m\u001b[0m\u001b[1;33m\u001b[0m\u001b[0m\n\u001b[0m\u001b[0;32m      2\u001b[0m     \u001b[0mday\u001b[0m \u001b[1;33m=\u001b[0m \u001b[0mdt\u001b[0m\u001b[1;33m.\u001b[0m\u001b[0mdatetime\u001b[0m\u001b[1;33m.\u001b[0m\u001b[0mtoday\u001b[0m\u001b[1;33m(\u001b[0m\u001b[1;33m)\u001b[0m\u001b[1;33m.\u001b[0m\u001b[0mweekday\u001b[0m\u001b[1;33m(\u001b[0m\u001b[1;33m)\u001b[0m\u001b[1;33m\u001b[0m\u001b[1;33m\u001b[0m\u001b[0m\n\u001b[0;32m      3\u001b[0m     \u001b[0mn_days\u001b[0m\u001b[1;33m=\u001b[0m\u001b[1;36m400\u001b[0m\u001b[1;33m\u001b[0m\u001b[1;33m\u001b[0m\u001b[0m\n\u001b[0;32m      4\u001b[0m     \u001b[0mticker\u001b[0m\u001b[1;33m=\u001b[0m\u001b[1;34m'ASIANPAINT.NS'\u001b[0m\u001b[1;33m\u001b[0m\u001b[1;33m\u001b[0m\u001b[0m\n\u001b[0;32m      5\u001b[0m     \u001b[1;31m# if day==6:\u001b[0m\u001b[1;33m\u001b[0m\u001b[1;33m\u001b[0m\u001b[1;33m\u001b[0m\u001b[0m\n",
      "\u001b[1;31mNameError\u001b[0m: name 'one_yr_back' is not defined"
     ]
    }
   ],
   "source": [
    "for i in range(12-int(one_yr_back.month)):\n",
    "    day = dt.datetime.today().weekday()\n",
    "    n_days=400\n",
    "    ticker='ASIANPAINT.NS'\n",
    "    # if day==6:\n",
    "    #     end = dt.datetime.today()-dt.timedelta(days=2)\n",
    "    # elif day==5:\n",
    "    #     end = dt.datetime.today()-dt.timedelta(days=1)\n",
    "    # elif day==0:\n",
    "    #     end = dt.datetime.today()-dt.timedelta(days=3)\n",
    "    # else:\n",
    "    end = dt.datetime.today()\n",
    "    \n",
    "    start = end - dt.timedelta(days=n_days)\n",
    "    #diff=end-start\n",
    "\n",
    "    data = pdr.get_data_yahoo(ticker, start, end)\n",
    "    \n",
    "    a=one_yr_back.replace(month=int(one_yr_back.month),day=1)\n",
    "    \n",
    "    b=last_day_of_month(a)\n",
    "    #print(a,b)\n",
    "    last_thursday= pd.date_range(a, last_day_of_month(a), freq=\"W-THU\").values[-1]\n",
    "    last_thursday=pd.to_datetime(last_thursday).date()\n",
    "    filter1=data['Date']>=a\n",
    "    filter2=data['Date']<=last_thursday\n",
    "    print(data.where(filter1 & filter2).dropna().head(10))\n",
    "    #print(last_thursday)\n"
   ]
  },
  {
   "cell_type": "code",
   "execution_count": 3,
   "id": "57afa8cc",
   "metadata": {},
   "outputs": [],
   "source": [
    "data=data.reset_index()\n",
    "data['Date']=data['Date'].dt.date"
   ]
  },
  {
   "cell_type": "code",
   "execution_count": 4,
   "id": "3bf7058d",
   "metadata": {},
   "outputs": [
    {
     "data": {
      "text/html": [
       "<div>\n",
       "<style scoped>\n",
       "    .dataframe tbody tr th:only-of-type {\n",
       "        vertical-align: middle;\n",
       "    }\n",
       "\n",
       "    .dataframe tbody tr th {\n",
       "        vertical-align: top;\n",
       "    }\n",
       "\n",
       "    .dataframe thead th {\n",
       "        text-align: right;\n",
       "    }\n",
       "</style>\n",
       "<table border=\"1\" class=\"dataframe\">\n",
       "  <thead>\n",
       "    <tr style=\"text-align: right;\">\n",
       "      <th></th>\n",
       "      <th>Date</th>\n",
       "      <th>High</th>\n",
       "      <th>Low</th>\n",
       "      <th>Open</th>\n",
       "      <th>Close</th>\n",
       "      <th>Volume</th>\n",
       "      <th>Adj Close</th>\n",
       "    </tr>\n",
       "  </thead>\n",
       "  <tbody>\n",
       "    <tr>\n",
       "      <th>0</th>\n",
       "      <td>2021-01-05</td>\n",
       "      <td>2804.600098</td>\n",
       "      <td>2732.000000</td>\n",
       "      <td>2753.699951</td>\n",
       "      <td>2793.850098</td>\n",
       "      <td>1299589.0</td>\n",
       "      <td>2776.808594</td>\n",
       "    </tr>\n",
       "    <tr>\n",
       "      <th>1</th>\n",
       "      <td>2021-01-06</td>\n",
       "      <td>2822.449951</td>\n",
       "      <td>2780.000000</td>\n",
       "      <td>2801.300049</td>\n",
       "      <td>2805.350098</td>\n",
       "      <td>1697884.0</td>\n",
       "      <td>2788.238281</td>\n",
       "    </tr>\n",
       "    <tr>\n",
       "      <th>2</th>\n",
       "      <td>2021-01-07</td>\n",
       "      <td>2831.850098</td>\n",
       "      <td>2781.500000</td>\n",
       "      <td>2801.000000</td>\n",
       "      <td>2792.250000</td>\n",
       "      <td>1142806.0</td>\n",
       "      <td>2775.218018</td>\n",
       "    </tr>\n",
       "    <tr>\n",
       "      <th>3</th>\n",
       "      <td>2021-01-08</td>\n",
       "      <td>2849.800049</td>\n",
       "      <td>2789.050049</td>\n",
       "      <td>2818.000000</td>\n",
       "      <td>2844.699951</td>\n",
       "      <td>1660967.0</td>\n",
       "      <td>2827.348145</td>\n",
       "    </tr>\n",
       "    <tr>\n",
       "      <th>4</th>\n",
       "      <td>2021-01-11</td>\n",
       "      <td>2873.449951</td>\n",
       "      <td>2824.600098</td>\n",
       "      <td>2845.000000</td>\n",
       "      <td>2849.300049</td>\n",
       "      <td>1517995.0</td>\n",
       "      <td>2831.920166</td>\n",
       "    </tr>\n",
       "    <tr>\n",
       "      <th>...</th>\n",
       "      <td>...</td>\n",
       "      <td>...</td>\n",
       "      <td>...</td>\n",
       "      <td>...</td>\n",
       "      <td>...</td>\n",
       "      <td>...</td>\n",
       "      <td>...</td>\n",
       "    </tr>\n",
       "    <tr>\n",
       "      <th>267</th>\n",
       "      <td>2022-02-02</td>\n",
       "      <td>3244.149902</td>\n",
       "      <td>3192.149902</td>\n",
       "      <td>3204.800049</td>\n",
       "      <td>3197.699951</td>\n",
       "      <td>667265.0</td>\n",
       "      <td>3197.699951</td>\n",
       "    </tr>\n",
       "    <tr>\n",
       "      <th>268</th>\n",
       "      <td>2022-02-03</td>\n",
       "      <td>3241.600098</td>\n",
       "      <td>3190.199951</td>\n",
       "      <td>3212.850098</td>\n",
       "      <td>3203.000000</td>\n",
       "      <td>899753.0</td>\n",
       "      <td>3203.000000</td>\n",
       "    </tr>\n",
       "    <tr>\n",
       "      <th>269</th>\n",
       "      <td>2022-02-04</td>\n",
       "      <td>3248.800049</td>\n",
       "      <td>3176.050049</td>\n",
       "      <td>3188.000000</td>\n",
       "      <td>3236.649902</td>\n",
       "      <td>705765.0</td>\n",
       "      <td>3236.649902</td>\n",
       "    </tr>\n",
       "    <tr>\n",
       "      <th>270</th>\n",
       "      <td>2022-02-07</td>\n",
       "      <td>3251.199951</td>\n",
       "      <td>3143.100098</td>\n",
       "      <td>3234.000000</td>\n",
       "      <td>3174.699951</td>\n",
       "      <td>860393.0</td>\n",
       "      <td>3174.699951</td>\n",
       "    </tr>\n",
       "    <tr>\n",
       "      <th>271</th>\n",
       "      <td>2022-02-08</td>\n",
       "      <td>3223.500000</td>\n",
       "      <td>3166.199951</td>\n",
       "      <td>3179.000000</td>\n",
       "      <td>3216.350098</td>\n",
       "      <td>799177.0</td>\n",
       "      <td>3216.350098</td>\n",
       "    </tr>\n",
       "  </tbody>\n",
       "</table>\n",
       "<p>272 rows × 7 columns</p>\n",
       "</div>"
      ],
      "text/plain": [
       "           Date         High          Low         Open        Close  \\\n",
       "0    2021-01-05  2804.600098  2732.000000  2753.699951  2793.850098   \n",
       "1    2021-01-06  2822.449951  2780.000000  2801.300049  2805.350098   \n",
       "2    2021-01-07  2831.850098  2781.500000  2801.000000  2792.250000   \n",
       "3    2021-01-08  2849.800049  2789.050049  2818.000000  2844.699951   \n",
       "4    2021-01-11  2873.449951  2824.600098  2845.000000  2849.300049   \n",
       "..          ...          ...          ...          ...          ...   \n",
       "267  2022-02-02  3244.149902  3192.149902  3204.800049  3197.699951   \n",
       "268  2022-02-03  3241.600098  3190.199951  3212.850098  3203.000000   \n",
       "269  2022-02-04  3248.800049  3176.050049  3188.000000  3236.649902   \n",
       "270  2022-02-07  3251.199951  3143.100098  3234.000000  3174.699951   \n",
       "271  2022-02-08  3223.500000  3166.199951  3179.000000  3216.350098   \n",
       "\n",
       "        Volume    Adj Close  \n",
       "0    1299589.0  2776.808594  \n",
       "1    1697884.0  2788.238281  \n",
       "2    1142806.0  2775.218018  \n",
       "3    1660967.0  2827.348145  \n",
       "4    1517995.0  2831.920166  \n",
       "..         ...          ...  \n",
       "267   667265.0  3197.699951  \n",
       "268   899753.0  3203.000000  \n",
       "269   705765.0  3236.649902  \n",
       "270   860393.0  3174.699951  \n",
       "271   799177.0  3216.350098  \n",
       "\n",
       "[272 rows x 7 columns]"
      ]
     },
     "execution_count": 4,
     "metadata": {},
     "output_type": "execute_result"
    }
   ],
   "source": [
    "data"
   ]
  },
  {
   "cell_type": "markdown",
   "id": "b7c9ae63",
   "metadata": {},
   "source": [
    "# Last thusday of last 1 yr"
   ]
  },
  {
   "cell_type": "code",
   "execution_count": 11,
   "id": "24bdbcfe",
   "metadata": {},
   "outputs": [],
   "source": [
    "first_day_of_month=date.today().replace(day=1)\n",
    "def last_day_of_month(any_day):\n",
    "\t# get close to the end of the month for any day, and add 4 days 'over'\n",
    "    next_month = any_day.replace(day=28) + dt.timedelta(days=4)\n",
    "\t# subtract the number of remaining 'overage' days to get last day of current month, or said programattically said, the previous day of the first of next month\n",
    "    return next_month - dt.timedelta(days=next_month.day)\n",
    "\n",
    "\n",
    "last_day_of_month=last_day_of_month(first_day_of_month)\n",
    "last_thursday= pd.date_range(first_day_of_month, last_day_of_month, freq=\"W-THU\").values[-1]\n",
    "last_thursday=pd.to_datetime(last_thursday).date()"
   ]
  },
  {
   "cell_type": "code",
   "execution_count": 12,
   "id": "d7e595b9",
   "metadata": {},
   "outputs": [],
   "source": [
    "last_thursday= pd.date_range(first_day_of_month, last_day_of_month, freq=\"W-THU\").values[-1]\n",
    "last_thursday=pd.to_datetime(last_thursday).date()"
   ]
  },
  {
   "cell_type": "code",
   "execution_count": 13,
   "id": "d418da6d",
   "metadata": {},
   "outputs": [
    {
     "data": {
      "text/plain": [
       "datetime.date(2022, 2, 1)"
      ]
     },
     "execution_count": 13,
     "metadata": {},
     "output_type": "execute_result"
    }
   ],
   "source": [
    "first_day_of_month"
   ]
  },
  {
   "cell_type": "code",
   "execution_count": 14,
   "id": "dff6aeea",
   "metadata": {},
   "outputs": [
    {
     "data": {
      "text/plain": [
       "datetime.date(2022, 2, 28)"
      ]
     },
     "execution_count": 14,
     "metadata": {},
     "output_type": "execute_result"
    }
   ],
   "source": [
    "last_day_of_month"
   ]
  },
  {
   "cell_type": "code",
   "execution_count": 15,
   "id": "622d89e6",
   "metadata": {},
   "outputs": [
    {
     "data": {
      "text/plain": [
       "datetime.date(2022, 2, 24)"
      ]
     },
     "execution_count": 15,
     "metadata": {},
     "output_type": "execute_result"
    }
   ],
   "source": [
    "last_thursday"
   ]
  },
  {
   "cell_type": "code",
   "execution_count": null,
   "id": "8884997f",
   "metadata": {},
   "outputs": [],
   "source": []
  },
  {
   "cell_type": "code",
   "execution_count": 3,
   "id": "43ee52e3",
   "metadata": {},
   "outputs": [
    {
     "data": {
      "text/plain": [
       "2022"
      ]
     },
     "execution_count": 3,
     "metadata": {},
     "output_type": "execute_result"
    }
   ],
   "source": [
    "date = datetime.date.today()\n",
    "int(date.strftime(\"%Y\"))"
   ]
  },
  {
   "cell_type": "code",
   "execution_count": 25,
   "id": "5a941347",
   "metadata": {},
   "outputs": [
    {
     "data": {
      "text/plain": [
       "'2022'"
      ]
     },
     "execution_count": 25,
     "metadata": {},
     "output_type": "execute_result"
    }
   ],
   "source": [
    "(date.strftime(\"%Y\")\n"
   ]
  },
  {
   "cell_type": "code",
   "execution_count": 29,
   "id": "d64f9632",
   "metadata": {},
   "outputs": [
    {
     "data": {
      "text/plain": [
       "2"
      ]
     },
     "execution_count": 29,
     "metadata": {},
     "output_type": "execute_result"
    }
   ],
   "source": [
    "int(datetime.date.today().strftime(\"%m\"))\n"
   ]
  },
  {
   "cell_type": "code",
   "execution_count": 40,
   "id": "65af3b83",
   "metadata": {},
   "outputs": [],
   "source": [
    "days_to_expiry = last_thursday.day-dt.datetime.today().date().day\n"
   ]
  },
  {
   "cell_type": "code",
   "execution_count": 41,
   "id": "20fee71f",
   "metadata": {},
   "outputs": [
    {
     "data": {
      "text/plain": [
       "16"
      ]
     },
     "execution_count": 41,
     "metadata": {},
     "output_type": "execute_result"
    }
   ],
   "source": [
    "days_to_expiry"
   ]
  },
  {
   "cell_type": "code",
   "execution_count": 25,
   "id": "772f3797",
   "metadata": {},
   "outputs": [
    {
     "data": {
      "text/html": [
       "<div>\n",
       "<style scoped>\n",
       "    .dataframe tbody tr th:only-of-type {\n",
       "        vertical-align: middle;\n",
       "    }\n",
       "\n",
       "    .dataframe tbody tr th {\n",
       "        vertical-align: top;\n",
       "    }\n",
       "\n",
       "    .dataframe thead th {\n",
       "        text-align: right;\n",
       "    }\n",
       "</style>\n",
       "<table border=\"1\" class=\"dataframe\">\n",
       "  <thead>\n",
       "    <tr style=\"text-align: right;\">\n",
       "      <th></th>\n",
       "      <th>High</th>\n",
       "      <th>Low</th>\n",
       "      <th>Open</th>\n",
       "      <th>Close</th>\n",
       "      <th>Volume</th>\n",
       "      <th>Adj Close</th>\n",
       "    </tr>\n",
       "    <tr>\n",
       "      <th>Date</th>\n",
       "      <th></th>\n",
       "      <th></th>\n",
       "      <th></th>\n",
       "      <th></th>\n",
       "      <th></th>\n",
       "      <th></th>\n",
       "    </tr>\n",
       "  </thead>\n",
       "  <tbody>\n",
       "    <tr>\n",
       "      <th>2021-01-05</th>\n",
       "      <td>2804.600098</td>\n",
       "      <td>2732.000000</td>\n",
       "      <td>2753.699951</td>\n",
       "      <td>2793.850098</td>\n",
       "      <td>1299589.0</td>\n",
       "      <td>2776.808594</td>\n",
       "    </tr>\n",
       "    <tr>\n",
       "      <th>2021-01-06</th>\n",
       "      <td>2822.449951</td>\n",
       "      <td>2780.000000</td>\n",
       "      <td>2801.300049</td>\n",
       "      <td>2805.350098</td>\n",
       "      <td>1697884.0</td>\n",
       "      <td>2788.238281</td>\n",
       "    </tr>\n",
       "    <tr>\n",
       "      <th>2021-01-07</th>\n",
       "      <td>2831.850098</td>\n",
       "      <td>2781.500000</td>\n",
       "      <td>2801.000000</td>\n",
       "      <td>2792.250000</td>\n",
       "      <td>1142806.0</td>\n",
       "      <td>2775.218018</td>\n",
       "    </tr>\n",
       "    <tr>\n",
       "      <th>2021-01-08</th>\n",
       "      <td>2849.800049</td>\n",
       "      <td>2789.050049</td>\n",
       "      <td>2818.000000</td>\n",
       "      <td>2844.699951</td>\n",
       "      <td>1660967.0</td>\n",
       "      <td>2827.348145</td>\n",
       "    </tr>\n",
       "    <tr>\n",
       "      <th>2021-01-11</th>\n",
       "      <td>2873.449951</td>\n",
       "      <td>2824.600098</td>\n",
       "      <td>2845.000000</td>\n",
       "      <td>2849.300049</td>\n",
       "      <td>1517995.0</td>\n",
       "      <td>2831.920166</td>\n",
       "    </tr>\n",
       "    <tr>\n",
       "      <th>...</th>\n",
       "      <td>...</td>\n",
       "      <td>...</td>\n",
       "      <td>...</td>\n",
       "      <td>...</td>\n",
       "      <td>...</td>\n",
       "      <td>...</td>\n",
       "    </tr>\n",
       "    <tr>\n",
       "      <th>2022-02-02</th>\n",
       "      <td>3244.149902</td>\n",
       "      <td>3192.149902</td>\n",
       "      <td>3204.800049</td>\n",
       "      <td>3197.699951</td>\n",
       "      <td>667265.0</td>\n",
       "      <td>3197.699951</td>\n",
       "    </tr>\n",
       "    <tr>\n",
       "      <th>2022-02-03</th>\n",
       "      <td>3241.600098</td>\n",
       "      <td>3190.199951</td>\n",
       "      <td>3212.850098</td>\n",
       "      <td>3203.000000</td>\n",
       "      <td>899753.0</td>\n",
       "      <td>3203.000000</td>\n",
       "    </tr>\n",
       "    <tr>\n",
       "      <th>2022-02-04</th>\n",
       "      <td>3248.800049</td>\n",
       "      <td>3176.050049</td>\n",
       "      <td>3188.000000</td>\n",
       "      <td>3236.649902</td>\n",
       "      <td>705765.0</td>\n",
       "      <td>3236.649902</td>\n",
       "    </tr>\n",
       "    <tr>\n",
       "      <th>2022-02-07</th>\n",
       "      <td>3251.199951</td>\n",
       "      <td>3143.100098</td>\n",
       "      <td>3234.000000</td>\n",
       "      <td>3174.699951</td>\n",
       "      <td>860393.0</td>\n",
       "      <td>3174.699951</td>\n",
       "    </tr>\n",
       "    <tr>\n",
       "      <th>2022-02-08</th>\n",
       "      <td>3223.500000</td>\n",
       "      <td>3166.199951</td>\n",
       "      <td>3179.000000</td>\n",
       "      <td>3216.350098</td>\n",
       "      <td>799177.0</td>\n",
       "      <td>3216.350098</td>\n",
       "    </tr>\n",
       "  </tbody>\n",
       "</table>\n",
       "<p>272 rows × 6 columns</p>\n",
       "</div>"
      ],
      "text/plain": [
       "                   High          Low         Open        Close     Volume  \\\n",
       "Date                                                                        \n",
       "2021-01-05  2804.600098  2732.000000  2753.699951  2793.850098  1299589.0   \n",
       "2021-01-06  2822.449951  2780.000000  2801.300049  2805.350098  1697884.0   \n",
       "2021-01-07  2831.850098  2781.500000  2801.000000  2792.250000  1142806.0   \n",
       "2021-01-08  2849.800049  2789.050049  2818.000000  2844.699951  1660967.0   \n",
       "2021-01-11  2873.449951  2824.600098  2845.000000  2849.300049  1517995.0   \n",
       "...                 ...          ...          ...          ...        ...   \n",
       "2022-02-02  3244.149902  3192.149902  3204.800049  3197.699951   667265.0   \n",
       "2022-02-03  3241.600098  3190.199951  3212.850098  3203.000000   899753.0   \n",
       "2022-02-04  3248.800049  3176.050049  3188.000000  3236.649902   705765.0   \n",
       "2022-02-07  3251.199951  3143.100098  3234.000000  3174.699951   860393.0   \n",
       "2022-02-08  3223.500000  3166.199951  3179.000000  3216.350098   799177.0   \n",
       "\n",
       "              Adj Close  \n",
       "Date                     \n",
       "2021-01-05  2776.808594  \n",
       "2021-01-06  2788.238281  \n",
       "2021-01-07  2775.218018  \n",
       "2021-01-08  2827.348145  \n",
       "2021-01-11  2831.920166  \n",
       "...                 ...  \n",
       "2022-02-02  3197.699951  \n",
       "2022-02-03  3203.000000  \n",
       "2022-02-04  3236.649902  \n",
       "2022-02-07  3174.699951  \n",
       "2022-02-08  3216.350098  \n",
       "\n",
       "[272 rows x 6 columns]"
      ]
     },
     "execution_count": 25,
     "metadata": {},
     "output_type": "execute_result"
    }
   ],
   "source": [
    "data"
   ]
  },
  {
   "cell_type": "code",
   "execution_count": 11,
   "id": "f70457b1",
   "metadata": {},
   "outputs": [],
   "source": [
    "first_day_of_month=date.today().replace(year=int(date.today().year)-1)\n",
    "def last_day_of_month(any_day):\n",
    "\t# get close to the end of the month for any day, and add 4 days 'over'\n",
    "    next_month = any_day.replace(day=28) + dt.timedelta(days=4)\n",
    "\t# subtract the number of remaining 'overage' days to get last day of current month, or said programattically said, the previous day of the first of next month\n",
    "    return next_month - dt.timedelta(days=next_month.day)\n",
    "\n",
    "\n",
    "last_day_of_month=last_day_of_month(first_day_of_month)\n",
    "last_thursday= pd.date_range(first_day_of_month, last_day_of_month, freq=\"W-THU\").values[-1]\n",
    "last_thursday=pd.to_datetime(last_thursday).date()"
   ]
  },
  {
   "cell_type": "code",
   "execution_count": 12,
   "id": "57ea637b",
   "metadata": {},
   "outputs": [
    {
     "data": {
      "text/plain": [
       "datetime.date(2021, 2, 8)"
      ]
     },
     "execution_count": 12,
     "metadata": {},
     "output_type": "execute_result"
    }
   ],
   "source": [
    "first_day_of_month"
   ]
  },
  {
   "cell_type": "code",
   "execution_count": 13,
   "id": "b917bbdc",
   "metadata": {},
   "outputs": [
    {
     "data": {
      "text/plain": [
       "datetime.date(2021, 2, 28)"
      ]
     },
     "execution_count": 13,
     "metadata": {},
     "output_type": "execute_result"
    }
   ],
   "source": [
    "last_day_of_month"
   ]
  },
  {
   "cell_type": "code",
   "execution_count": 14,
   "id": "29fdd34c",
   "metadata": {},
   "outputs": [
    {
     "data": {
      "text/plain": [
       "datetime.date(2021, 2, 25)"
      ]
     },
     "execution_count": 14,
     "metadata": {},
     "output_type": "execute_result"
    }
   ],
   "source": [
    "last_thursday"
   ]
  },
  {
   "cell_type": "code",
   "execution_count": 16,
   "id": "18963dd4",
   "metadata": {},
   "outputs": [],
   "source": [
    "one_yr_back=date.today().replace(year=int(date.today().year)-1)\n",
    "    "
   ]
  },
  {
   "cell_type": "code",
   "execution_count": 17,
   "id": "5c3f50d1",
   "metadata": {},
   "outputs": [
    {
     "data": {
      "text/plain": [
       "datetime.date(2021, 2, 9)"
      ]
     },
     "execution_count": 17,
     "metadata": {},
     "output_type": "execute_result"
    }
   ],
   "source": [
    "one_yr_back"
   ]
  },
  {
   "cell_type": "code",
   "execution_count": 12,
   "id": "5cfb74e3",
   "metadata": {},
   "outputs": [],
   "source": [
    "first_day_of_month=first_day_of_month.replace(month=int(first_day_of_month.month)+1,day=1)"
   ]
  },
  {
   "cell_type": "code",
   "execution_count": 25,
   "id": "495f75cf",
   "metadata": {},
   "outputs": [
    {
     "data": {
      "text/plain": [
       "datetime.date(2021, 2, 8)"
      ]
     },
     "execution_count": 25,
     "metadata": {},
     "output_type": "execute_result"
    }
   ],
   "source": [
    "first_day_of_month"
   ]
  },
  {
   "cell_type": "code",
   "execution_count": 68,
   "id": "5f83831c",
   "metadata": {},
   "outputs": [
    {
     "name": "stdout",
     "output_type": "stream",
     "text": [
      "Empty DataFrame\n",
      "Columns: [Date, High, Low, Open, Close, Volume, Adj Close]\n",
      "Index: []\n",
      "Empty DataFrame\n",
      "Columns: [Date, High, Low, Open, Close, Volume, Adj Close]\n",
      "Index: []\n",
      "Empty DataFrame\n",
      "Columns: [Date, High, Low, Open, Close, Volume, Adj Close]\n",
      "Index: []\n",
      "Empty DataFrame\n",
      "Columns: [Date, High, Low, Open, Close, Volume, Adj Close]\n",
      "Index: []\n",
      "Empty DataFrame\n",
      "Columns: [Date, High, Low, Open, Close, Volume, Adj Close]\n",
      "Index: []\n",
      "Empty DataFrame\n",
      "Columns: [Date, High, Low, Open, Close, Volume, Adj Close]\n",
      "Index: []\n",
      "Empty DataFrame\n",
      "Columns: [Date, High, Low, Open, Close, Volume, Adj Close]\n",
      "Index: []\n",
      "Empty DataFrame\n",
      "Columns: [Date, High, Low, Open, Close, Volume, Adj Close]\n",
      "Index: []\n",
      "Empty DataFrame\n",
      "Columns: [Date, High, Low, Open, Close, Volume, Adj Close]\n",
      "Index: []\n",
      "Empty DataFrame\n",
      "Columns: [Date, High, Low, Open, Close, Volume, Adj Close]\n",
      "Index: []\n",
      "           Date         High          Low         Open        Close  \\\n",
      "200  2021-12-01  3199.750000  3124.100098  3155.899902  3138.149902   \n",
      "201  2021-12-02  3194.000000  3152.250000  3160.000000  3180.600098   \n",
      "202  2021-12-03  3187.449951  3106.000000  3185.000000  3110.449951   \n",
      "203  2021-12-06  3115.000000  3028.250000  3115.000000  3038.300049   \n",
      "204  2021-12-07  3069.000000  3016.449951  3040.000000  3030.350098   \n",
      "205  2021-12-08  3123.000000  3031.000000  3031.899902  3108.500000   \n",
      "206  2021-12-09  3183.050049  3111.000000  3152.399902  3178.699951   \n",
      "207  2021-12-10  3292.000000  3178.699951  3184.000000  3283.149902   \n",
      "208  2021-12-13  3341.000000  3270.949951  3285.100098  3279.850098   \n",
      "209  2021-12-14  3305.000000  3249.000000  3274.000000  3297.500000   \n",
      "\n",
      "        Volume    Adj Close  \n",
      "200  1741820.0  3138.149902  \n",
      "201   939320.0  3180.600098  \n",
      "202  1216263.0  3110.449951  \n",
      "203  1107363.0  3038.300049  \n",
      "204  2056459.0  3030.350098  \n",
      "205  1171484.0  3108.500000  \n",
      "206  1287243.0  3178.699951  \n",
      "207  2554394.0  3283.149902  \n",
      "208  1265832.0  3279.850098  \n",
      "209   863179.0  3297.500000  \n"
     ]
    }
   ],
   "source": [
    "for i in range(12-int(one_yr_back.month)+1):\n",
    "    a=one_yr_back.replace(month=int(one_yr_back.month)+i,day=1)\n",
    "    \n",
    "    b=last_day_of_month(a)\n",
    "    #print(a,b)\n",
    "    last_thursday= pd.date_range(a, last_day_of_month(a), freq=\"W-THU\").values[-1]\n",
    "    last_thursday=pd.to_datetime(last_thursday).date()\n",
    "    filter1=data['Date']>=a\n",
    "    filter2=data['Date']<=last_thursday\n",
    "    print(data.where(filter1 & filter2).dropna().head(10))\n",
    "    #print(last_thursday)\n",
    "   "
   ]
  },
  {
   "cell_type": "code",
   "execution_count": 29,
   "id": "480c9aff",
   "metadata": {},
   "outputs": [
    {
     "data": {
      "text/plain": [
       "17"
      ]
     },
     "execution_count": 29,
     "metadata": {},
     "output_type": "execute_result"
    }
   ],
   "source": [
    "days_to_expiry = last_thursday.day-dt.datetime.today().date().day\n",
    "days_to_expiry"
   ]
  },
  {
   "cell_type": "code",
   "execution_count": 61,
   "id": "1f8905a7",
   "metadata": {},
   "outputs": [],
   "source": [
    "data['Date']=data['Date'].dt.date"
   ]
  },
  {
   "cell_type": "code",
   "execution_count": 62,
   "id": "314d69b6",
   "metadata": {},
   "outputs": [],
   "source": [
    "filter1=data['Date']>=a\n",
    "filter2=data['Date']<=last_thursday\n"
   ]
  },
  {
   "cell_type": "code",
   "execution_count": 63,
   "id": "bb12f5e7",
   "metadata": {},
   "outputs": [],
   "source": [
    "data.where(filter1 & filter2)"
   ]
  },
  {
   "cell_type": "code",
   "execution_count": 103,
   "id": "f84cf72d",
   "metadata": {},
   "outputs": [
    {
     "name": "stdout",
     "output_type": "stream",
     "text": [
      "2021-02-25 0.26629776993608945\n",
      "2021-03-25 0.26629776993608945\n",
      "2021-04-29 0.26629776993608945\n",
      "2021-05-27 0.26629776993608945\n",
      "2021-06-24 0.26629776993608945\n",
      "2021-07-29 0.26629776993608945\n",
      "2021-08-26 0.26629776993608945\n",
      "2021-09-30 0.26629776993608945\n",
      "2021-10-28 0.26629776993608945\n",
      "2021-11-25 0.26629776993608945\n",
      "2021-12-30 0.26629776993608945\n"
     ]
    }
   ],
   "source": [
    "for i in range(12-int(one_yr_back.month)+1):\n",
    "    \n",
    "    a=one_yr_back.replace(month=int(one_yr_back.month)+i,day=1)\n",
    "    b=last_day_of_month(a)\n",
    "    #print(a,b)\n",
    "    last_thursday= pd.date_range(a, last_day_of_month(a), freq=\"W-THU\").values[-1]\n",
    "    last_thursday=pd.to_datetime(last_thursday).date()\n",
    "    filter1=data['Date']>=a\n",
    "    filter2=data['Date']<=last_thursday\n",
    "    #print(last_thursday,data.where(filter1 & filter2).dropna()[-days_to_expiry:]['Close'])\n",
    "    #print(last_thursday)\n",
    "    data.where(filter1 & filter2).dropna()[-days_to_expiry:]\n",
    "    data['Log returns'] = np.log(data['Close']/data['Close'].shift())\n",
    "    data['Log returns'].std()\n",
    "    #print(last_thursday,data['Log returns'].std()*252**.5)\n",
    "    "
   ]
  },
  {
   "cell_type": "code",
   "execution_count": 101,
   "id": "a4fa0241",
   "metadata": {},
   "outputs": [
    {
     "name": "stdout",
     "output_type": "stream",
     "text": [
      "2021-02-25 0.26629776993608945\n"
     ]
    }
   ],
   "source": [
    "a=one_yr_back.replace(month=int(one_yr_back.month),day=1)\n",
    "b=last_day_of_month(a)\n",
    "#print(a,b)\n",
    "last_thursday= pd.date_range(a, last_day_of_month(a), freq=\"W-THU\").values[-1]\n",
    "last_thursday=pd.to_datetime(last_thursday).date()\n",
    "filter1=data['Date']>=a\n",
    "filter2=data['Date']<=last_thursday\n",
    "#print(last_thursday,data.where(filter1 & filter2).dropna()[-days_to_expiry:])\n",
    "data['Log returns'] = np.log(data['Close']/data['Close'].shift())\n",
    "data['Log returns'].std()\n",
    "print(last_thursday,data['Log returns'].std()*252**.5)\n",
    "#print(last_thursday)"
   ]
  },
  {
   "cell_type": "code",
   "execution_count": 70,
   "id": "f333c51e",
   "metadata": {},
   "outputs": [
    {
     "data": {
      "text/plain": [
       "datetime.date(2021, 2, 1)"
      ]
     },
     "execution_count": 70,
     "metadata": {},
     "output_type": "execute_result"
    }
   ],
   "source": [
    "a"
   ]
  },
  {
   "cell_type": "code",
   "execution_count": 71,
   "id": "f9527e49",
   "metadata": {},
   "outputs": [
    {
     "data": {
      "text/plain": [
       "datetime.date(2021, 2, 28)"
      ]
     },
     "execution_count": 71,
     "metadata": {},
     "output_type": "execute_result"
    }
   ],
   "source": [
    "b"
   ]
  },
  {
   "cell_type": "code",
   "execution_count": 72,
   "id": "b578a0ba",
   "metadata": {},
   "outputs": [
    {
     "data": {
      "text/plain": [
       "datetime.date(2021, 2, 25)"
      ]
     },
     "execution_count": 72,
     "metadata": {},
     "output_type": "execute_result"
    }
   ],
   "source": [
    "last_thursday"
   ]
  },
  {
   "cell_type": "code",
   "execution_count": 92,
   "id": "788bbe29",
   "metadata": {},
   "outputs": [
    {
     "data": {
      "text/plain": [
       "0      2753.699951\n",
       "1      2793.850098\n",
       "2      2805.350098\n",
       "3      2792.250000\n",
       "4      2844.699951\n",
       "          ...     \n",
       "268    3197.699951\n",
       "269    3203.000000\n",
       "270    3236.649902\n",
       "271    3174.699951\n",
       "272    3216.350098\n",
       "Name: Close, Length: 273, dtype: float64"
      ]
     },
     "execution_count": 92,
     "metadata": {},
     "output_type": "execute_result"
    }
   ],
   "source": [
    "data['Close']"
   ]
  },
  {
   "cell_type": "code",
   "execution_count": 16,
   "id": "daaa00ab",
   "metadata": {},
   "outputs": [
    {
     "data": {
      "text/plain": [
       "datetime.date(2021, 2, 8)"
      ]
     },
     "execution_count": 16,
     "metadata": {},
     "output_type": "execute_result"
    }
   ],
   "source": [
    "one_yr_back.replace(month=int(one_yr_back.month))"
   ]
  },
  {
   "cell_type": "code",
   "execution_count": 65,
   "id": "b70af961",
   "metadata": {},
   "outputs": [
    {
     "data": {
      "text/plain": [
       "datetime.date(2021, 12, 30)"
      ]
     },
     "execution_count": 65,
     "metadata": {},
     "output_type": "execute_result"
    }
   ],
   "source": [
    "last_thursday"
   ]
  },
  {
   "cell_type": "code",
   "execution_count": 20,
   "id": "62c9d277",
   "metadata": {},
   "outputs": [],
   "source": [
    "def last_day_of_month(any_day):\n",
    "\t# get close to the end of the month for any day, and add 4 days 'over'\n",
    "    next_month = any_day.replace(day=28) + dt.timedelta(days=4)\n",
    "\t# subtract the number of remaining 'overage' days to get last day of current month, or said programattically said, the previous day of the first of next month\n",
    "    return next_month - dt.timedelta(days=next_month.day)"
   ]
  },
  {
   "cell_type": "code",
   "execution_count": 21,
   "id": "ebcf4057",
   "metadata": {},
   "outputs": [
    {
     "data": {
      "text/plain": [
       "datetime.date(2021, 2, 28)"
      ]
     },
     "execution_count": 21,
     "metadata": {},
     "output_type": "execute_result"
    }
   ],
   "source": [
    "last_day_of_month(one_yr_back)"
   ]
  },
  {
   "cell_type": "code",
   "execution_count": 25,
   "id": "0e956f7c",
   "metadata": {},
   "outputs": [
    {
     "data": {
      "text/plain": [
       "datetime.date(2021, 2, 8)"
      ]
     },
     "execution_count": 25,
     "metadata": {},
     "output_type": "execute_result"
    }
   ],
   "source": [
    "one_yr_back"
   ]
  },
  {
   "cell_type": "code",
   "execution_count": 35,
   "id": "f3414e48",
   "metadata": {},
   "outputs": [
    {
     "name": "stdout",
     "output_type": "stream",
     "text": [
      "2021-02-25 0.2861937244060574\n",
      "2021-03-25 0.2669329124273495\n",
      "2021-04-29 0.2859832377054255\n",
      "2021-05-27 0.3533123943829705\n",
      "2021-06-24 0.18712440337984904\n",
      "2021-07-29 0.26493189072626916\n",
      "2021-08-26 0.18918686451376476\n",
      "2021-09-30 0.22159439637021056\n",
      "2021-10-28 0.34079121108998117\n",
      "2021-11-25 0.22011156180723396\n",
      "2021-12-30 0.20312705161029992\n"
     ]
    }
   ],
   "source": [
    "for i in range(12-int(one_yr_back.month)+1):\n",
    "    day = dt.datetime.today().weekday()\n",
    "    n_days=400\n",
    "    ticker='ASIANPAINT.NS'\n",
    "\n",
    "    end = dt.datetime.today()\n",
    "    \n",
    "    start = end - dt.timedelta(days=n_days)\n",
    "    #diff=end-start\n",
    "\n",
    "    data = pdr.get_data_yahoo(ticker, start, end)\n",
    "    data=data.reset_index()\n",
    "    data['Date']=data['Date'].dt.date\n",
    "    \n",
    "    a=one_yr_back.replace(month=int(one_yr_back.month)+i,day=1)\n",
    "    \n",
    "    b=last_day_of_month(a)\n",
    "    #print(a,b)\n",
    "    last_thursday= pd.date_range(a, last_day_of_month(a), freq=\"W-THU\").values[-1]\n",
    "    last_thursday=pd.to_datetime(last_thursday).date()\n",
    "    filter1=data['Date']>=a\n",
    "    filter2=data['Date']<=last_thursday\n",
    "    #print(data.where(filter1 & filter2).dropna().head(10))\n",
    "    data=data.where(filter1 & filter2).dropna()[-days_to_expiry:]\n",
    "    data['Log returns'] = np.log(data['Close']/data['Close'].shift())\n",
    "    data['Log returns'].std()\n",
    "    final=data['Log returns'].std()*252**.5\n",
    "    print(last_thursday,final)"
   ]
  },
  {
   "cell_type": "code",
   "execution_count": 37,
   "id": "f9c0d354",
   "metadata": {},
   "outputs": [
    {
     "name": "stdout",
     "output_type": "stream",
     "text": [
      "2021-02-25 0.23173163093339258\n",
      "2021-03-25 0.2227669211778174\n",
      "2021-04-29 0.3164505270305914\n",
      "2021-05-27 0.19448748357239226\n",
      "2021-06-24 0.13971702812347953\n",
      "2021-07-29 0.21582927074512054\n",
      "2021-08-26 0.23059434377827503\n",
      "2021-09-30 0.1346114016359105\n",
      "2021-10-28 0.19737762474917214\n",
      "2021-11-25 0.20499420664822252\n",
      "2021-12-30 0.24701827792498227\n"
     ]
    }
   ],
   "source": [
    "for i in range(12-int(one_yr_back.month)+1):\n",
    "    day = dt.datetime.today().weekday()\n",
    "    n_days=400\n",
    "    ticker='CIPLA.NS'\n",
    "\n",
    "    end = dt.datetime.today()\n",
    "    \n",
    "    start = end - dt.timedelta(days=n_days)\n",
    "    #diff=end-start\n",
    "\n",
    "    data = pdr.get_data_yahoo(ticker, start, end)\n",
    "    data=data.reset_index()\n",
    "    data['Date']=data['Date'].dt.date\n",
    "    \n",
    "    a=one_yr_back.replace(month=int(one_yr_back.month)+i,day=1)\n",
    "    \n",
    "    b=last_day_of_month(a)\n",
    "    #print(a,b)\n",
    "    last_thursday= pd.date_range(a, last_day_of_month(a), freq=\"W-THU\").values[-1]\n",
    "    last_thursday=pd.to_datetime(last_thursday).date()\n",
    "    filter1=data['Date']>=a\n",
    "    filter2=data['Date']<=last_thursday\n",
    "    #print(data.where(filter1 & filter2).dropna().head(10))\n",
    "    data=data.where(filter1 & filter2).dropna()[-days_to_expiry:]\n",
    "    data['Log returns'] = np.log(data['Close']/data['Close'].shift())\n",
    "    data['Log returns'].std()\n",
    "    final=data['Log returns'].std()*252**.5\n",
    "    print(last_thursday,final)"
   ]
  },
  {
   "cell_type": "code",
   "execution_count": 26,
   "id": "d218aa74",
   "metadata": {},
   "outputs": [],
   "source": [
    "symbol=['ADANIPORTS.NS', 'ASIANPAINT.NS', 'AUBANK.NS', 'AXISBANK.NS', 'BAJAJ-AUTO.NS', 'BAJAJFINSV.NS', 'BAJFINANCE.NS', 'BANDHANBNK.NS', 'BHARTIARTL.NS',\n",
    "       'BPCL.NS', 'BRITANNIA.NS', 'CIPLA.NS', 'COALINDIA.NS', 'DIVISLAB.NS', 'DRREDDY.NS', 'EICHERMOT.NS', 'FEDERALBNK.NS', 'GRASIM.NS', 'HCLTECH.NS', 'HDFC.NS',\n",
    "       'HDFCBANK.NS', 'HDFCLIFE.NS', 'HEROMOTOCO.NS', 'HINDALCO.NS', 'HINDUNILVR.NS', 'ICICIBANK.NS', 'IDFCFIRSTB.NS', 'INDUSINDBK.NS', 'INFY.NS', 'IOC.NS', \n",
    "       'ITC.NS', 'JSWSTEEL.NS', 'KOTAKBANK.NS', 'LT.NS',  'MARUTI.NS', 'NESTLEIND.NS', 'NTPC.NS', 'ONGC.NS', 'PNB.NS', 'POWERGRID.NS', 'RBLBANK.NS', 'RELIANCE.NS', 'SBILIFE.NS', 'SBIN.NS', 'SHREECEM.NS', 'SUNPHARMA.NS',\n",
    "       'TATACONSUM.NS', 'TATAMOTORS.NS', 'TATASTEEL.NS', 'TCS.NS', 'TECHM.NS', 'TITAN.NS', 'ULTRACEMCO.NS', 'UPL.NS', 'WIPRO.NS']"
   ]
  },
  {
   "cell_type": "code",
   "execution_count": 43,
   "id": "e4497dc6",
   "metadata": {},
   "outputs": [],
   "source": [
    "symbol=['ADANIPORTS.NS', 'ASIANPAINT.NS','ICICIBANK.NS']"
   ]
  },
  {
   "cell_type": "code",
   "execution_count": 23,
   "id": "cabf172b",
   "metadata": {},
   "outputs": [
    {
     "data": {
      "text/plain": [
       "16"
      ]
     },
     "execution_count": 23,
     "metadata": {},
     "output_type": "execute_result"
    }
   ],
   "source": [
    "one_yr_back=date.today().replace(year=int(date.today().year)-1)\n",
    "days_to_expiry = last_thursday.day-dt.datetime.today().date().day\n",
    "days_to_expiry"
   ]
  },
  {
   "cell_type": "code",
   "execution_count": 27,
   "id": "61645149",
   "metadata": {},
   "outputs": [
    {
     "name": "stdout",
     "output_type": "stream",
     "text": [
      "Showing 12 datapoints of ADANIPORTS.NS\n",
      "2021-02-25 0.3392684229187174\n",
      "2021-03-25 0.40650544158828905\n",
      "2021-04-29 0.5170564433964387\n",
      "2021-05-27 0.2666608844552336\n",
      "2021-06-24 0.766911825051607\n",
      "2021-07-29 0.2545570559109843\n",
      "2021-08-26 0.3299852566180477\n",
      "2021-09-30 0.17650027649509087\n",
      "2021-10-28 0.4993478993502873\n",
      "2021-11-25 0.262532649987422\n",
      "2021-12-30 0.2656304259842062\n",
      "Showing 12 datapoints of ASIANPAINT.NS\n",
      "2021-02-25 0.2839253641932359\n",
      "2021-03-25 0.2755736434424067\n",
      "2021-04-29 0.2479242953306993\n",
      "2021-05-27 0.35913813045701315\n",
      "2021-06-24 0.19056808981111312\n",
      "2021-07-29 0.2686599530374991\n",
      "2021-08-26 0.19537358524109136\n",
      "2021-09-30 0.2292294881334299\n",
      "2021-10-28 0.3497810576572337\n",
      "2021-11-25 0.22611799286740217\n",
      "2021-12-30 0.19600801500318368\n",
      "Showing 12 datapoints of AUBANK.NS\n",
      "2021-02-25 0.4553554046458001\n",
      "2021-03-25 0.541517042337443\n",
      "2021-04-29 0.6638143311750643\n",
      "2021-05-27 0.3307945595418533\n",
      "2021-06-24 0.32886120446038564\n",
      "2021-07-29 0.3659117796684765\n",
      "2021-08-26 0.3056611749678204\n",
      "2021-09-30 0.3431460580219865\n",
      "2021-10-28 0.36110588680086686\n",
      "2021-11-25 0.2583898573501388\n",
      "2021-12-30 0.5343413435534511\n",
      "Showing 12 datapoints of AXISBANK.NS\n",
      "2021-02-25 0.4572159619307544\n",
      "2021-03-25 0.2559712472690915\n",
      "2021-04-29 0.38852134823301815\n",
      "2021-05-27 0.2728843186491205\n",
      "2021-06-24 0.16246284025225124\n",
      "2021-07-29 0.21684675365635556\n",
      "2021-08-26 0.16308297097824906\n",
      "2021-09-30 0.2041796053702775\n",
      "2021-10-28 0.37747843965381017\n",
      "2021-11-25 0.13964966384311053\n",
      "2021-12-30 0.22286166228499013\n",
      "Showing 12 datapoints of BAJAJ-AUTO.NS\n",
      "2021-02-25 0.16948286239852048\n",
      "2021-03-25 0.2636253532530463\n",
      "2021-04-29 0.30227814388903285\n",
      "2021-05-27 0.2571955366407666\n",
      "2021-06-24 0.1636403473165565\n",
      "2021-07-29 0.14109926382177473\n",
      "2021-08-26 0.22375076134907504\n",
      "2021-09-30 0.18217465725807194\n",
      "2021-10-28 0.24757660351320196\n",
      "2021-11-25 0.19221769240546174\n",
      "2021-12-30 0.21961468349167507\n",
      "Showing 12 datapoints of BAJAJFINSV.NS\n",
      "2021-02-25 0.2694087712873145\n",
      "2021-03-25 0.17313461390429963\n",
      "2021-04-29 0.5024154661359076\n",
      "2021-05-27 0.27998914245896706\n",
      "2021-06-24 0.2627015665132327\n",
      "2021-07-29 0.29584472160611036\n",
      "2021-08-26 0.3783013763580938\n",
      "2021-09-30 0.3162493359895714\n",
      "2021-10-28 0.26684914613788385\n",
      "2021-11-25 0.3285216526689252\n",
      "2021-12-30 0.23556658162277605\n",
      "Showing 12 datapoints of BAJFINANCE.NS\n",
      "2021-02-25 0.28876398815595755\n",
      "2021-03-25 0.252868045434227\n",
      "2021-04-29 0.6059381778987539\n",
      "2021-05-27 0.27050516649571327\n",
      "2021-06-24 0.38194147596482503\n",
      "2021-07-29 0.23225039988086688\n",
      "2021-08-26 0.2424479227931559\n",
      "2021-09-30 0.27616332964928764\n",
      "2021-10-28 0.25793405532928276\n",
      "2021-11-25 0.30120176975459834\n",
      "2021-12-30 0.33291290873724677\n",
      "Showing 12 datapoints of BANDHANBNK.NS\n",
      "2021-02-25 0.352669281638576\n",
      "2021-03-25 0.30518688085884127\n",
      "2021-04-29 0.5271390791124511\n",
      "2021-05-27 0.322482094936773\n",
      "2021-06-24 0.3574423267397777\n",
      "2021-07-29 0.20422686356744807\n",
      "2021-08-26 0.2582499569329512\n",
      "2021-09-30 0.27460106504149323\n",
      "2021-10-28 0.5660716739566685\n",
      "2021-11-25 0.3397611816299583\n",
      "2021-12-30 0.39001440466506254\n",
      "Showing 12 datapoints of BHARTIARTL.NS\n",
      "2021-02-25 0.25738849755952126\n",
      "2021-03-25 0.17729464230332748\n",
      "2021-04-29 0.284604657526791\n",
      "2021-05-27 0.19792635114476068\n",
      "2021-06-24 0.17096652009867802\n",
      "2021-07-29 0.3271583365744434\n",
      "2021-08-26 0.34631034282446005\n",
      "2021-09-30 0.30275320957660035\n",
      "2021-10-28 0.21546429769028144\n",
      "2021-11-25 0.2742240910572966\n",
      "2021-12-30 0.19182877737896845\n",
      "Showing 12 datapoints of BPCL.NS\n",
      "2021-02-25 0.3395171338451816\n",
      "2021-03-25 0.33850838509915315\n",
      "2021-04-29 0.2914123631976081\n",
      "2021-05-27 0.25694214330653736\n",
      "2021-06-24 0.1089288985782871\n",
      "2021-07-29 0.12517329813130096\n",
      "2021-08-26 0.18712731808572894\n",
      "2021-09-30 0.5097396100047865\n",
      "2021-10-28 0.24343306243949211\n",
      "2021-11-25 0.22620795515083056\n",
      "2021-12-30 0.34953613480248014\n",
      "Showing 12 datapoints of BRITANNIA.NS\n",
      "2021-02-25 0.15615774522490034\n",
      "2021-03-25 0.21292788147877362\n",
      "2021-04-29 0.22751949550162917\n",
      "2021-05-27 0.20215033994646342\n",
      "2021-06-24 0.12699798369249862\n",
      "2021-07-29 0.09462159258769315\n",
      "2021-08-26 0.24295210130594638\n",
      "2021-09-30 0.07459927956214937\n",
      "2021-10-28 0.14684237369746514\n",
      "2021-11-25 0.26141644098795946\n",
      "2021-12-30 0.15010835444648346\n",
      "Showing 12 datapoints of CIPLA.NS\n",
      "2021-02-25 0.23122769318061936\n",
      "2021-03-25 0.23026341365586767\n",
      "2021-04-29 0.3221543454690369\n",
      "2021-05-27 0.19885680599144792\n",
      "2021-06-24 0.14176233125783078\n",
      "2021-07-29 0.22326899251362162\n",
      "2021-08-26 0.23128727329988305\n",
      "2021-09-30 0.13929523399401303\n",
      "2021-10-28 0.18474920793205965\n",
      "2021-11-25 0.21065531002004328\n",
      "2021-12-30 0.25353789989571857\n",
      "Showing 12 datapoints of COALINDIA.NS\n",
      "2021-02-25 0.46338939836390397\n",
      "2021-03-25 0.21693139283754187\n",
      "2021-04-29 0.2440350133948849\n",
      "2021-05-27 0.4976854014951158\n",
      "2021-06-24 0.31793957281219704\n",
      "2021-07-29 0.13799361604480273\n",
      "2021-08-26 0.20728906217046578\n",
      "2021-09-30 0.42369299019653883\n",
      "2021-10-28 0.3390675523622146\n",
      "2021-11-25 0.3009476532147995\n",
      "2021-12-30 0.2755277819945854\n",
      "Showing 12 datapoints of DIVISLAB.NS\n",
      "2021-02-25 0.23059389509967107\n",
      "2021-03-25 0.26756826190615557\n",
      "2021-04-29 0.18588308303340645\n",
      "2021-05-27 0.15917655328076907\n",
      "2021-06-24 0.2078606781217313\n",
      "2021-07-29 0.23922304670702493\n",
      "2021-08-26 0.1248267560079299\n",
      "2021-09-30 0.23677638082048333\n",
      "2021-10-28 0.26429563755044033\n",
      "2021-11-25 0.3423848307141167\n",
      "2021-12-30 0.280711379866392\n",
      "Showing 12 datapoints of DRREDDY.NS\n",
      "2021-02-25 0.27828542890182756\n",
      "2021-03-25 0.27563021575216173\n",
      "2021-04-29 0.35472154300154135\n",
      "2021-05-27 0.1717509310778612\n",
      "2021-06-24 0.18925857944847585\n",
      "2021-07-29 0.4610322037953283\n",
      "2021-08-26 0.168904496491242\n",
      "2021-09-30 0.14985501485864128\n",
      "2021-10-28 0.16630608150493884\n",
      "2021-11-25 0.13783331296513907\n",
      "2021-12-30 0.17838978206052772\n",
      "Showing 12 datapoints of EICHERMOT.NS\n",
      "2021-02-25 0.24520421473377227\n",
      "2021-03-25 0.2182356460534086\n",
      "2021-04-29 0.39283979381968553\n",
      "2021-05-27 0.276486248017792\n",
      "2021-06-24 0.16766327721664231\n",
      "2021-07-29 0.11870539059632518\n",
      "2021-08-26 0.31117957441661176\n",
      "2021-09-30 0.23394756042503279\n",
      "2021-10-28 0.3124541331677747\n",
      "2021-11-25 0.3387704846748788\n",
      "2021-12-30 0.24225592677151886\n",
      "Showing 12 datapoints of FEDERALBNK.NS\n",
      "2021-02-25 0.3632438146065348\n",
      "2021-03-25 0.3268936870066996\n",
      "2021-04-29 0.6138622365221756\n",
      "2021-05-27 0.28293402217704255\n",
      "2021-06-24 0.1960489826962465\n",
      "2021-07-29 0.2827233539004393\n",
      "2021-08-26 0.27235553342544544\n",
      "2021-09-30 0.3234067295494614\n",
      "2021-10-28 0.44783041772780363\n",
      "2021-11-25 0.22076790573037583\n",
      "2021-12-30 0.2951227774758863\n",
      "Showing 12 datapoints of GRASIM.NS\n",
      "2021-02-25 0.15714975566533593\n",
      "2021-03-25 0.19485913804517854\n",
      "2021-04-29 0.3126863706389217\n",
      "2021-05-27 0.24363824151695676\n",
      "2021-06-24 0.1716730360469706\n",
      "2021-07-29 0.23085366729221768\n",
      "2021-08-26 0.17920458539601367\n",
      "2021-09-30 0.19201184864642137\n",
      "2021-10-28 0.32646867292034204\n",
      "2021-11-25 0.24126597618354756\n",
      "2021-12-30 0.2505300601104934\n",
      "Showing 12 datapoints of HCLTECH.NS\n",
      "2021-02-25 0.19666340830480666\n",
      "2021-03-25 0.2907176015906794\n",
      "2021-04-29 0.27343528979992426\n",
      "2021-05-27 0.0987844850569778\n",
      "2021-06-24 0.14893055066111208\n",
      "2021-07-29 0.3225981410267973\n",
      "2021-08-26 0.24638845034181386\n",
      "2021-09-30 0.3042955523996872\n",
      "2021-10-28 0.2851654131867317\n",
      "2021-11-25 0.15117934715921996\n",
      "2021-12-30 0.22037007312085724\n",
      "Showing 12 datapoints of HDFC.NS\n",
      "2021-02-25 0.2614984737068915\n",
      "2021-03-25 0.20990158945543602\n",
      "2021-04-29 0.3487049026512941\n",
      "2021-05-27 0.2959379609169247\n",
      "2021-06-24 0.13783625561303836\n",
      "2021-07-29 0.1781281043284659\n",
      "2021-08-26 0.14001454118363485\n",
      "2021-09-30 0.229786735309242\n",
      "2021-10-28 0.14538449332767514\n",
      "2021-11-25 0.20380662899758514\n",
      "2021-12-30 0.1874878453888335\n",
      "Showing 12 datapoints of HDFCBANK.NS\n",
      "2021-02-25 0.29541918482346824\n",
      "2021-03-25 0.22149733865327503\n",
      "2021-04-29 0.29682416021244995\n",
      "2021-05-27 0.3031559153341059\n",
      "2021-06-24 0.12582482385131932\n",
      "2021-07-29 0.19582683332322134\n",
      "2021-08-26 0.13745379837931557\n",
      "2021-09-30 0.19512283905076508\n",
      "2021-10-28 0.2223495372986882\n",
      "2021-11-25 0.13993068169830228\n",
      "2021-12-30 0.17416000491905195\n",
      "Showing 12 datapoints of HDFCLIFE.NS\n",
      "2021-02-25 0.26456132744517663\n",
      "2021-03-25 0.20908033362781864\n",
      "2021-04-29 0.3196680655077582\n",
      "2021-05-27 0.11468119577399792\n",
      "2021-06-24 0.1276840095808646\n",
      "2021-07-29 0.18006353814729698\n",
      "2021-08-26 0.15447611010715623\n",
      "2021-09-30 0.1744395906802995\n",
      "2021-10-28 0.14703429251644262\n",
      "2021-11-25 0.1765011717187684\n",
      "2021-12-30 0.1845902266929944\n",
      "Showing 12 datapoints of HEROMOTOCO.NS\n"
     ]
    },
    {
     "name": "stdout",
     "output_type": "stream",
     "text": [
      "2021-02-25 0.26583684227275073\n",
      "2021-03-25 0.19618802808667293\n",
      "2021-04-29 0.32395529553444685\n",
      "2021-05-27 0.24572649100193525\n",
      "2021-06-24 0.13826332593293153\n",
      "2021-07-29 0.09210685789374855\n",
      "2021-08-26 0.1397984606794513\n",
      "2021-09-30 0.21312734831972188\n",
      "2021-10-28 0.1978557157534923\n",
      "2021-11-25 0.1944592178557287\n",
      "2021-12-30 0.20417690681995387\n",
      "Showing 12 datapoints of HINDALCO.NS\n",
      "2021-02-25 0.41638574992616106\n",
      "2021-03-25 0.32683645598134686\n",
      "2021-04-29 0.5057243908058142\n",
      "2021-05-27 0.5292110652335525\n",
      "2021-06-24 0.21191014778723513\n",
      "2021-07-29 0.5062787907858037\n",
      "2021-08-26 0.3521197230785371\n",
      "2021-09-30 0.4207410168697654\n",
      "2021-10-28 0.4580038349755072\n",
      "2021-11-25 0.2886927825945069\n",
      "2021-12-30 0.29454581005164515\n",
      "Showing 12 datapoints of HINDUNILVR.NS\n",
      "2021-02-25 0.16412357727946947\n",
      "2021-03-25 0.28093796321215125\n",
      "2021-04-29 0.21489905046819666\n",
      "2021-05-27 0.19293224839512751\n",
      "2021-06-24 0.15149932021735843\n",
      "2021-07-29 0.13591467783288882\n",
      "2021-08-26 0.22328410077795566\n",
      "2021-09-30 0.18605748157248345\n",
      "2021-10-28 0.21161070750996197\n",
      "2021-11-25 0.1190289242636154\n",
      "2021-12-30 0.18632493158442415\n",
      "Showing 12 datapoints of ICICIBANK.NS\n",
      "2021-02-25 0.38145998598316366\n",
      "2021-03-25 0.281069587728402\n",
      "2021-04-29 0.41789158598966375\n",
      "2021-05-27 0.2792396034238677\n",
      "2021-06-24 0.14830765568771426\n",
      "2021-07-29 0.2469590947136948\n",
      "2021-08-26 0.1677346022959792\n",
      "2021-09-30 0.20098065403881218\n",
      "2021-10-28 0.49079925572524263\n",
      "2021-11-25 0.13937817200200386\n",
      "2021-12-30 0.18865532062476262\n",
      "Showing 12 datapoints of IDFCFIRSTB.NS\n",
      "2021-02-25 0.3994314920783934\n",
      "2021-03-25 0.3529049458182391\n",
      "2021-04-29 0.648058688784112\n",
      "2021-05-27 0.3186504310850235\n",
      "2021-06-24 0.1707589412895475\n",
      "2021-07-29 0.24361613011501398\n",
      "2021-08-26 0.46141083024167034\n",
      "2021-09-30 0.3885317111564174\n",
      "2021-10-28 0.47679399675810313\n",
      "2021-11-25 0.28984741683721543\n",
      "2021-12-30 0.43199855352940386\n",
      "Showing 12 datapoints of INDUSINDBK.NS\n",
      "2021-02-25 0.3252689758339857\n",
      "2021-03-25 0.34563777106150656\n",
      "2021-04-29 0.5378246835529363\n",
      "2021-05-27 0.4158032932136371\n",
      "2021-06-24 0.22678996625746636\n",
      "2021-07-29 0.2142500498722922\n",
      "2021-08-26 0.22799416925414867\n",
      "2021-09-30 0.43133430856293387\n",
      "2021-10-28 0.2623374328924385\n",
      "2021-11-25 0.4946385737111239\n",
      "2021-12-30 0.3197178052142068\n",
      "Showing 12 datapoints of INFY.NS\n",
      "2021-02-25 0.1730305125302472\n",
      "2021-03-25 0.23099759682467014\n",
      "2021-04-29 0.17723173258490368\n",
      "2021-05-27 0.16116446264391013\n",
      "2021-06-24 0.16190658055605517\n",
      "2021-07-29 0.1700501573020875\n",
      "2021-08-26 0.13068347376887088\n",
      "2021-09-30 0.19462526051612783\n",
      "2021-10-28 0.29890666834300594\n",
      "2021-11-25 0.19789555144716223\n",
      "2021-12-30 0.18022207620404465\n",
      "Showing 12 datapoints of IOC.NS\n",
      "2021-02-25 0.39572181003219203\n",
      "2021-03-25 0.2980679581627862\n",
      "2021-04-29 0.284762885968977\n",
      "2021-05-27 0.37512991802891965\n",
      "2021-06-24 0.18946060980328158\n",
      "2021-07-29 0.08798672773649407\n",
      "2021-08-26 0.2691856611081865\n",
      "2021-09-30 0.27513269808329155\n",
      "2021-10-28 0.21237499938811302\n",
      "2021-11-25 0.34990422116621334\n",
      "2021-12-30 0.25675085636953054\n",
      "Showing 12 datapoints of ITC.NS\n",
      "2021-02-25 0.2641326921531062\n",
      "2021-03-25 0.26109366130559447\n",
      "2021-04-29 0.19543495900056626\n",
      "2021-05-27 0.21380244737947524\n",
      "2021-06-24 0.11591056123641713\n",
      "2021-07-29 0.16271395089200313\n",
      "2021-08-26 0.18197018585916813\n",
      "2021-09-30 0.3105711554455269\n",
      "2021-10-28 0.47601298295148436\n",
      "2021-11-25 0.24297085952635228\n",
      "2021-12-30 0.22565429511479204\n",
      "Showing 12 datapoints of JSWSTEEL.NS\n",
      "2021-02-25 0.3124203144551756\n",
      "2021-03-25 0.31311181398462395\n",
      "2021-04-29 0.5626199819329751\n",
      "2021-05-27 0.3453830794521094\n",
      "2021-06-24 0.2911762677806879\n",
      "2021-07-29 0.34324776495400317\n",
      "2021-08-26 0.41204168620826\n",
      "2021-09-30 0.45467876084132464\n",
      "2021-10-28 0.3034107424432114\n",
      "2021-11-25 0.23948678878086493\n",
      "2021-12-30 0.20677883373381095\n",
      "Showing 12 datapoints of KOTAKBANK.NS\n",
      "2021-02-25 0.30188544174504695\n",
      "2021-03-25 0.21279566822946802\n",
      "2021-04-29 0.29824780366209724\n",
      "2021-05-27 0.26691099111445704\n",
      "2021-06-24 0.11064720458183651\n",
      "2021-07-29 0.19372849008630091\n",
      "2021-08-26 0.1952709645570122\n",
      "2021-09-30 0.27121023463929983\n",
      "2021-10-28 0.35781663958493143\n",
      "2021-11-25 0.2693358999686759\n",
      "2021-12-30 0.24217280818370118\n",
      "Showing 12 datapoints of LT.NS\n",
      "2021-02-25 0.2818507027405042\n",
      "2021-03-25 0.24053748264947558\n",
      "2021-04-29 0.31866044441792063\n",
      "2021-05-27 0.23073899214051902\n",
      "2021-06-24 0.20273744009761302\n",
      "2021-07-29 0.26463853520624314\n",
      "2021-08-26 0.22125308113508757\n",
      "2021-09-30 0.1964467311620583\n",
      "2021-10-28 0.21764989287717537\n",
      "2021-11-25 0.25791625613292835\n",
      "2021-12-30 0.20337395961369173\n",
      "Showing 12 datapoints of MARUTI.NS\n",
      "2021-02-25 0.22703754858399974\n",
      "2021-03-25 0.23562697868651628\n",
      "2021-04-29 0.32836564594354134\n",
      "2021-05-27 0.14836273246479045\n",
      "2021-06-24 0.27416006480366234\n",
      "2021-07-29 0.15602881362506815\n",
      "2021-08-26 0.1488613107591483\n",
      "2021-09-30 0.2977377965575534\n",
      "2021-10-28 0.30625191583029787\n",
      "2021-11-25 0.3850472101301483\n",
      "2021-12-30 0.1596106508349682\n",
      "Showing 12 datapoints of NESTLEIND.NS\n",
      "2021-02-25 0.2094939205964642\n",
      "2021-03-25 0.1702015740909428\n",
      "2021-04-29 0.2179735357913486\n",
      "2021-05-27 0.17634553595824323\n",
      "2021-06-24 0.16871878388921677\n",
      "2021-07-29 0.09851268245391426\n",
      "2021-08-26 0.20072384187729053\n",
      "2021-09-30 0.1692665141084645\n",
      "2021-10-28 0.17760114969115648\n",
      "2021-11-25 0.15378633955735274\n",
      "2021-12-30 0.13161849900789252\n",
      "Showing 12 datapoints of NTPC.NS\n",
      "2021-02-25 0.32550714485022414\n",
      "2021-03-25 0.32529677697589576\n",
      "2021-04-29 0.2977187561520717\n",
      "2021-05-27 0.26047618399619105\n",
      "2021-06-24 0.3058850820996055\n",
      "2021-07-29 0.1842289650804638\n",
      "2021-08-26 0.20519825852022341\n",
      "2021-09-30 0.39118706733836967\n",
      "2021-10-28 0.24799642933967256\n",
      "2021-11-25 0.26539588825584803\n",
      "2021-12-30 0.2525647687616114\n",
      "Showing 12 datapoints of ONGC.NS\n",
      "2021-02-25 0.5417289295336215\n",
      "2021-03-25 0.31986219322842135\n",
      "2021-04-29 0.3809124164932713\n",
      "2021-05-27 0.293376401254155\n",
      "2021-06-24 0.2298694606651364\n",
      "2021-07-29 0.24167817637063235\n",
      "2021-08-26 0.20808450365139347\n",
      "2021-09-30 0.29354332525409904\n",
      "2021-10-28 0.39231849872586344\n",
      "2021-11-25 0.35350353556760067\n",
      "2021-12-30 0.31360655488444894\n",
      "Showing 12 datapoints of PNB.NS\n",
      "2021-02-25 0.4750743193475671\n",
      "2021-03-25 0.3409388608097271\n",
      "2021-04-29 0.551764520389525\n",
      "2021-05-27 0.5023522610720337\n",
      "2021-06-24 0.35898828222407725\n",
      "2021-07-29 0.1932780907449161\n",
      "2021-08-26 0.2402127961653397\n",
      "2021-09-30 0.45774326909821794\n",
      "2021-10-28 0.6672890004903306\n",
      "2021-11-25 0.27368711962374515\n",
      "2021-12-30 0.2995883250062236\n",
      "Showing 12 datapoints of POWERGRID.NS\n",
      "2021-02-25 0.3592376492373169\n",
      "2021-03-25 0.3131962349092515\n",
      "2021-04-29 0.350656386102394\n",
      "2021-05-27 0.2497442753519435\n",
      "2021-06-24 0.30515467851968364\n",
      "2021-07-29 0.14222465566183348\n",
      "2021-08-26 0.3327681460452111\n",
      "2021-09-30 0.3410862122315939\n",
      "2021-10-28 0.2837194742892857\n",
      "2021-11-25 0.25630633049845586\n",
      "2021-12-30 0.26735753354034614\n",
      "Showing 12 datapoints of RBLBANK.NS\n",
      "2021-02-25 0.38819861032140235\n",
      "2021-03-25 0.34098343126852415\n",
      "2021-04-29 0.6201642683981184\n",
      "2021-05-27 0.23221400277556248\n",
      "2021-06-24 0.2407457340018861\n",
      "2021-07-29 0.227844295445523\n",
      "2021-08-26 0.3271734528031079\n",
      "2021-09-30 0.3224290667298144\n",
      "2021-10-28 0.38453180294688205\n",
      "2021-11-25 0.3981630995122372\n",
      "2021-12-30 0.9557670115230109\n",
      "Showing 12 datapoints of RELIANCE.NS\n",
      "2021-02-25 0.29473874070618167\n",
      "2021-03-25 0.26093214557663963\n",
      "2021-04-29 0.23819401998009462\n",
      "2021-05-27 0.13088353409006748\n",
      "2021-06-24 0.19458230678035338\n",
      "2021-07-29 0.1449683525914996\n",
      "2021-08-26 0.17351552878012336\n",
      "2021-09-30 0.2030139810801397\n",
      "2021-10-28 0.2540592006974637\n",
      "2021-11-25 0.3634105762616443\n",
      "2021-12-30 0.24536602907391256\n",
      "Showing 12 datapoints of SBILIFE.NS\n",
      "2021-02-25 0.30110860531196304\n",
      "2021-03-25 0.3550655600065121\n",
      "2021-04-29 0.2862720318122165\n",
      "2021-05-27 0.21293260870004554\n",
      "2021-06-24 0.15927884013559895\n",
      "2021-07-29 0.23570711198191543\n",
      "2021-08-26 0.16459012231272319\n",
      "2021-09-30 0.22966176852948272\n",
      "2021-10-28 0.26600509859774013\n",
      "2021-11-25 0.2587127569078685\n",
      "2021-12-30 0.18816256507285517\n",
      "Showing 12 datapoints of SBIN.NS\n",
      "2021-02-25 0.5081693812143625\n",
      "2021-03-25 0.26248352190605256\n",
      "2021-04-29 0.4306996345567201\n",
      "2021-05-27 0.31685438652775677\n",
      "2021-06-24 0.18397916951573368\n",
      "2021-07-29 0.23030818156726077\n",
      "2021-08-26 0.2275401696982493\n",
      "2021-09-30 0.34918770011485706\n",
      "2021-10-28 0.2677467147834509\n",
      "2021-11-25 0.2456866375771385\n",
      "2021-12-30 0.2549169058206382\n",
      "Showing 12 datapoints of SHREECEM.NS\n",
      "2021-02-25 0.2804348571852337\n"
     ]
    },
    {
     "name": "stdout",
     "output_type": "stream",
     "text": [
      "2021-03-25 0.3386524000724033\n",
      "2021-04-29 0.39532660978667317\n",
      "2021-05-27 0.25664578074394656\n",
      "2021-06-24 0.2550766420064185\n",
      "2021-07-29 0.12885174108098235\n",
      "2021-08-26 0.23512975084749405\n",
      "2021-09-30 0.13723443559646872\n",
      "2021-10-28 0.1727565799073947\n",
      "2021-11-25 0.21920429456194793\n",
      "2021-12-30 0.1757002720328306\n",
      "Showing 12 datapoints of SUNPHARMA.NS\n",
      "2021-02-25 0.23252303417215453\n",
      "2021-03-25 0.22978370925233088\n",
      "2021-04-29 0.23457742664688536\n",
      "2021-05-27 0.21051028789896137\n",
      "2021-06-24 0.08700736905953564\n",
      "2021-07-29 0.2206655378087445\n",
      "2021-08-26 0.1644920466546805\n"
     ]
    },
    {
     "ename": "KeyboardInterrupt",
     "evalue": "",
     "output_type": "error",
     "traceback": [
      "\u001b[1;31m---------------------------------------------------------------------------\u001b[0m",
      "\u001b[1;31mKeyboardInterrupt\u001b[0m                         Traceback (most recent call last)",
      "\u001b[1;32m<ipython-input-27-8fad43345eec>\u001b[0m in \u001b[0;36m<module>\u001b[1;34m\u001b[0m\n\u001b[0;32m     12\u001b[0m         \u001b[1;31m#diff=end-start\u001b[0m\u001b[1;33m\u001b[0m\u001b[1;33m\u001b[0m\u001b[1;33m\u001b[0m\u001b[0m\n\u001b[0;32m     13\u001b[0m \u001b[1;33m\u001b[0m\u001b[0m\n\u001b[1;32m---> 14\u001b[1;33m         \u001b[0mdata\u001b[0m \u001b[1;33m=\u001b[0m \u001b[0mpdr\u001b[0m\u001b[1;33m.\u001b[0m\u001b[0mget_data_yahoo\u001b[0m\u001b[1;33m(\u001b[0m\u001b[0mticker\u001b[0m\u001b[1;33m,\u001b[0m \u001b[0mstart\u001b[0m\u001b[1;33m,\u001b[0m \u001b[0mend\u001b[0m\u001b[1;33m)\u001b[0m\u001b[1;33m\u001b[0m\u001b[1;33m\u001b[0m\u001b[0m\n\u001b[0m\u001b[0;32m     15\u001b[0m         \u001b[0mdata\u001b[0m\u001b[1;33m=\u001b[0m\u001b[0mdata\u001b[0m\u001b[1;33m.\u001b[0m\u001b[0mreset_index\u001b[0m\u001b[1;33m(\u001b[0m\u001b[1;33m)\u001b[0m\u001b[1;33m\u001b[0m\u001b[1;33m\u001b[0m\u001b[0m\n\u001b[0;32m     16\u001b[0m         \u001b[0mdata\u001b[0m\u001b[1;33m[\u001b[0m\u001b[1;34m'Date'\u001b[0m\u001b[1;33m]\u001b[0m\u001b[1;33m=\u001b[0m\u001b[0mdata\u001b[0m\u001b[1;33m[\u001b[0m\u001b[1;34m'Date'\u001b[0m\u001b[1;33m]\u001b[0m\u001b[1;33m.\u001b[0m\u001b[0mdt\u001b[0m\u001b[1;33m.\u001b[0m\u001b[0mdate\u001b[0m\u001b[1;33m\u001b[0m\u001b[1;33m\u001b[0m\u001b[0m\n",
      "\u001b[1;32m~\\anaconda3\\lib\\site-packages\\pandas_datareader\\data.py\u001b[0m in \u001b[0;36mget_data_yahoo\u001b[1;34m(*args, **kwargs)\u001b[0m\n\u001b[0;32m     78\u001b[0m \u001b[1;33m\u001b[0m\u001b[0m\n\u001b[0;32m     79\u001b[0m \u001b[1;32mdef\u001b[0m \u001b[0mget_data_yahoo\u001b[0m\u001b[1;33m(\u001b[0m\u001b[1;33m*\u001b[0m\u001b[0margs\u001b[0m\u001b[1;33m,\u001b[0m \u001b[1;33m**\u001b[0m\u001b[0mkwargs\u001b[0m\u001b[1;33m)\u001b[0m\u001b[1;33m:\u001b[0m\u001b[1;33m\u001b[0m\u001b[1;33m\u001b[0m\u001b[0m\n\u001b[1;32m---> 80\u001b[1;33m     \u001b[1;32mreturn\u001b[0m \u001b[0mYahooDailyReader\u001b[0m\u001b[1;33m(\u001b[0m\u001b[1;33m*\u001b[0m\u001b[0margs\u001b[0m\u001b[1;33m,\u001b[0m \u001b[1;33m**\u001b[0m\u001b[0mkwargs\u001b[0m\u001b[1;33m)\u001b[0m\u001b[1;33m.\u001b[0m\u001b[0mread\u001b[0m\u001b[1;33m(\u001b[0m\u001b[1;33m)\u001b[0m\u001b[1;33m\u001b[0m\u001b[1;33m\u001b[0m\u001b[0m\n\u001b[0m\u001b[0;32m     81\u001b[0m \u001b[1;33m\u001b[0m\u001b[0m\n\u001b[0;32m     82\u001b[0m \u001b[1;33m\u001b[0m\u001b[0m\n",
      "\u001b[1;32m~\\anaconda3\\lib\\site-packages\\pandas_datareader\\base.py\u001b[0m in \u001b[0;36mread\u001b[1;34m(self)\u001b[0m\n\u001b[0;32m    251\u001b[0m         \u001b[1;31m# If a single symbol, (e.g., 'GOOG')\u001b[0m\u001b[1;33m\u001b[0m\u001b[1;33m\u001b[0m\u001b[1;33m\u001b[0m\u001b[0m\n\u001b[0;32m    252\u001b[0m         \u001b[1;32mif\u001b[0m \u001b[0misinstance\u001b[0m\u001b[1;33m(\u001b[0m\u001b[0mself\u001b[0m\u001b[1;33m.\u001b[0m\u001b[0msymbols\u001b[0m\u001b[1;33m,\u001b[0m \u001b[1;33m(\u001b[0m\u001b[0mstring_types\u001b[0m\u001b[1;33m,\u001b[0m \u001b[0mint\u001b[0m\u001b[1;33m)\u001b[0m\u001b[1;33m)\u001b[0m\u001b[1;33m:\u001b[0m\u001b[1;33m\u001b[0m\u001b[1;33m\u001b[0m\u001b[0m\n\u001b[1;32m--> 253\u001b[1;33m             \u001b[0mdf\u001b[0m \u001b[1;33m=\u001b[0m \u001b[0mself\u001b[0m\u001b[1;33m.\u001b[0m\u001b[0m_read_one_data\u001b[0m\u001b[1;33m(\u001b[0m\u001b[0mself\u001b[0m\u001b[1;33m.\u001b[0m\u001b[0murl\u001b[0m\u001b[1;33m,\u001b[0m \u001b[0mparams\u001b[0m\u001b[1;33m=\u001b[0m\u001b[0mself\u001b[0m\u001b[1;33m.\u001b[0m\u001b[0m_get_params\u001b[0m\u001b[1;33m(\u001b[0m\u001b[0mself\u001b[0m\u001b[1;33m.\u001b[0m\u001b[0msymbols\u001b[0m\u001b[1;33m)\u001b[0m\u001b[1;33m)\u001b[0m\u001b[1;33m\u001b[0m\u001b[1;33m\u001b[0m\u001b[0m\n\u001b[0m\u001b[0;32m    254\u001b[0m         \u001b[1;31m# Or multiple symbols, (e.g., ['GOOG', 'AAPL', 'MSFT'])\u001b[0m\u001b[1;33m\u001b[0m\u001b[1;33m\u001b[0m\u001b[1;33m\u001b[0m\u001b[0m\n\u001b[0;32m    255\u001b[0m         \u001b[1;32melif\u001b[0m \u001b[0misinstance\u001b[0m\u001b[1;33m(\u001b[0m\u001b[0mself\u001b[0m\u001b[1;33m.\u001b[0m\u001b[0msymbols\u001b[0m\u001b[1;33m,\u001b[0m \u001b[0mDataFrame\u001b[0m\u001b[1;33m)\u001b[0m\u001b[1;33m:\u001b[0m\u001b[1;33m\u001b[0m\u001b[1;33m\u001b[0m\u001b[0m\n",
      "\u001b[1;32m~\\anaconda3\\lib\\site-packages\\pandas_datareader\\yahoo\\daily.py\u001b[0m in \u001b[0;36m_read_one_data\u001b[1;34m(self, url, params)\u001b[0m\n\u001b[0;32m    147\u001b[0m         \u001b[0murl\u001b[0m \u001b[1;33m=\u001b[0m \u001b[0murl\u001b[0m\u001b[1;33m.\u001b[0m\u001b[0mformat\u001b[0m\u001b[1;33m(\u001b[0m\u001b[0msymbol\u001b[0m\u001b[1;33m)\u001b[0m\u001b[1;33m\u001b[0m\u001b[1;33m\u001b[0m\u001b[0m\n\u001b[0;32m    148\u001b[0m \u001b[1;33m\u001b[0m\u001b[0m\n\u001b[1;32m--> 149\u001b[1;33m         \u001b[0mresp\u001b[0m \u001b[1;33m=\u001b[0m \u001b[0mself\u001b[0m\u001b[1;33m.\u001b[0m\u001b[0m_get_response\u001b[0m\u001b[1;33m(\u001b[0m\u001b[0murl\u001b[0m\u001b[1;33m,\u001b[0m \u001b[0mparams\u001b[0m\u001b[1;33m=\u001b[0m\u001b[0mparams\u001b[0m\u001b[1;33m,\u001b[0m \u001b[0mheaders\u001b[0m\u001b[1;33m=\u001b[0m\u001b[0mself\u001b[0m\u001b[1;33m.\u001b[0m\u001b[0mheaders\u001b[0m\u001b[1;33m)\u001b[0m\u001b[1;33m\u001b[0m\u001b[1;33m\u001b[0m\u001b[0m\n\u001b[0m\u001b[0;32m    150\u001b[0m         \u001b[0mptrn\u001b[0m \u001b[1;33m=\u001b[0m \u001b[1;34mr\"root\\.App\\.main = (.*?);\\n}\\(this\\)\\);\"\u001b[0m\u001b[1;33m\u001b[0m\u001b[1;33m\u001b[0m\u001b[0m\n\u001b[0;32m    151\u001b[0m         \u001b[1;32mtry\u001b[0m\u001b[1;33m:\u001b[0m\u001b[1;33m\u001b[0m\u001b[1;33m\u001b[0m\u001b[0m\n",
      "\u001b[1;32m~\\anaconda3\\lib\\site-packages\\pandas_datareader\\base.py\u001b[0m in \u001b[0;36m_get_response\u001b[1;34m(self, url, params, headers)\u001b[0m\n\u001b[0;32m    153\u001b[0m         \u001b[0mlast_response_text\u001b[0m \u001b[1;33m=\u001b[0m \u001b[1;34m\"\"\u001b[0m\u001b[1;33m\u001b[0m\u001b[1;33m\u001b[0m\u001b[0m\n\u001b[0;32m    154\u001b[0m         \u001b[1;32mfor\u001b[0m \u001b[0m_\u001b[0m \u001b[1;32min\u001b[0m \u001b[0mrange\u001b[0m\u001b[1;33m(\u001b[0m\u001b[0mself\u001b[0m\u001b[1;33m.\u001b[0m\u001b[0mretry_count\u001b[0m \u001b[1;33m+\u001b[0m \u001b[1;36m1\u001b[0m\u001b[1;33m)\u001b[0m\u001b[1;33m:\u001b[0m\u001b[1;33m\u001b[0m\u001b[1;33m\u001b[0m\u001b[0m\n\u001b[1;32m--> 155\u001b[1;33m             response = self.session.get(\n\u001b[0m\u001b[0;32m    156\u001b[0m                 \u001b[0murl\u001b[0m\u001b[1;33m,\u001b[0m \u001b[0mparams\u001b[0m\u001b[1;33m=\u001b[0m\u001b[0mparams\u001b[0m\u001b[1;33m,\u001b[0m \u001b[0mheaders\u001b[0m\u001b[1;33m=\u001b[0m\u001b[0mheaders\u001b[0m\u001b[1;33m,\u001b[0m \u001b[0mtimeout\u001b[0m\u001b[1;33m=\u001b[0m\u001b[0mself\u001b[0m\u001b[1;33m.\u001b[0m\u001b[0mtimeout\u001b[0m\u001b[1;33m\u001b[0m\u001b[1;33m\u001b[0m\u001b[0m\n\u001b[0;32m    157\u001b[0m             )\n",
      "\u001b[1;32m~\\anaconda3\\lib\\site-packages\\requests\\sessions.py\u001b[0m in \u001b[0;36mget\u001b[1;34m(self, url, **kwargs)\u001b[0m\n\u001b[0;32m    553\u001b[0m \u001b[1;33m\u001b[0m\u001b[0m\n\u001b[0;32m    554\u001b[0m         \u001b[0mkwargs\u001b[0m\u001b[1;33m.\u001b[0m\u001b[0msetdefault\u001b[0m\u001b[1;33m(\u001b[0m\u001b[1;34m'allow_redirects'\u001b[0m\u001b[1;33m,\u001b[0m \u001b[1;32mTrue\u001b[0m\u001b[1;33m)\u001b[0m\u001b[1;33m\u001b[0m\u001b[1;33m\u001b[0m\u001b[0m\n\u001b[1;32m--> 555\u001b[1;33m         \u001b[1;32mreturn\u001b[0m \u001b[0mself\u001b[0m\u001b[1;33m.\u001b[0m\u001b[0mrequest\u001b[0m\u001b[1;33m(\u001b[0m\u001b[1;34m'GET'\u001b[0m\u001b[1;33m,\u001b[0m \u001b[0murl\u001b[0m\u001b[1;33m,\u001b[0m \u001b[1;33m**\u001b[0m\u001b[0mkwargs\u001b[0m\u001b[1;33m)\u001b[0m\u001b[1;33m\u001b[0m\u001b[1;33m\u001b[0m\u001b[0m\n\u001b[0m\u001b[0;32m    556\u001b[0m \u001b[1;33m\u001b[0m\u001b[0m\n\u001b[0;32m    557\u001b[0m     \u001b[1;32mdef\u001b[0m \u001b[0moptions\u001b[0m\u001b[1;33m(\u001b[0m\u001b[0mself\u001b[0m\u001b[1;33m,\u001b[0m \u001b[0murl\u001b[0m\u001b[1;33m,\u001b[0m \u001b[1;33m**\u001b[0m\u001b[0mkwargs\u001b[0m\u001b[1;33m)\u001b[0m\u001b[1;33m:\u001b[0m\u001b[1;33m\u001b[0m\u001b[1;33m\u001b[0m\u001b[0m\n",
      "\u001b[1;32m~\\anaconda3\\lib\\site-packages\\requests\\sessions.py\u001b[0m in \u001b[0;36mrequest\u001b[1;34m(self, method, url, params, data, headers, cookies, files, auth, timeout, allow_redirects, proxies, hooks, stream, verify, cert, json)\u001b[0m\n\u001b[0;32m    540\u001b[0m         }\n\u001b[0;32m    541\u001b[0m         \u001b[0msend_kwargs\u001b[0m\u001b[1;33m.\u001b[0m\u001b[0mupdate\u001b[0m\u001b[1;33m(\u001b[0m\u001b[0msettings\u001b[0m\u001b[1;33m)\u001b[0m\u001b[1;33m\u001b[0m\u001b[1;33m\u001b[0m\u001b[0m\n\u001b[1;32m--> 542\u001b[1;33m         \u001b[0mresp\u001b[0m \u001b[1;33m=\u001b[0m \u001b[0mself\u001b[0m\u001b[1;33m.\u001b[0m\u001b[0msend\u001b[0m\u001b[1;33m(\u001b[0m\u001b[0mprep\u001b[0m\u001b[1;33m,\u001b[0m \u001b[1;33m**\u001b[0m\u001b[0msend_kwargs\u001b[0m\u001b[1;33m)\u001b[0m\u001b[1;33m\u001b[0m\u001b[1;33m\u001b[0m\u001b[0m\n\u001b[0m\u001b[0;32m    543\u001b[0m \u001b[1;33m\u001b[0m\u001b[0m\n\u001b[0;32m    544\u001b[0m         \u001b[1;32mreturn\u001b[0m \u001b[0mresp\u001b[0m\u001b[1;33m\u001b[0m\u001b[1;33m\u001b[0m\u001b[0m\n",
      "\u001b[1;32m~\\anaconda3\\lib\\site-packages\\requests\\sessions.py\u001b[0m in \u001b[0;36msend\u001b[1;34m(self, request, **kwargs)\u001b[0m\n\u001b[0;32m    653\u001b[0m \u001b[1;33m\u001b[0m\u001b[0m\n\u001b[0;32m    654\u001b[0m         \u001b[1;31m# Send the request\u001b[0m\u001b[1;33m\u001b[0m\u001b[1;33m\u001b[0m\u001b[1;33m\u001b[0m\u001b[0m\n\u001b[1;32m--> 655\u001b[1;33m         \u001b[0mr\u001b[0m \u001b[1;33m=\u001b[0m \u001b[0madapter\u001b[0m\u001b[1;33m.\u001b[0m\u001b[0msend\u001b[0m\u001b[1;33m(\u001b[0m\u001b[0mrequest\u001b[0m\u001b[1;33m,\u001b[0m \u001b[1;33m**\u001b[0m\u001b[0mkwargs\u001b[0m\u001b[1;33m)\u001b[0m\u001b[1;33m\u001b[0m\u001b[1;33m\u001b[0m\u001b[0m\n\u001b[0m\u001b[0;32m    656\u001b[0m \u001b[1;33m\u001b[0m\u001b[0m\n\u001b[0;32m    657\u001b[0m         \u001b[1;31m# Total elapsed time of the request (approximately)\u001b[0m\u001b[1;33m\u001b[0m\u001b[1;33m\u001b[0m\u001b[1;33m\u001b[0m\u001b[0m\n",
      "\u001b[1;32m~\\anaconda3\\lib\\site-packages\\requests\\adapters.py\u001b[0m in \u001b[0;36msend\u001b[1;34m(self, request, stream, timeout, verify, cert, proxies)\u001b[0m\n\u001b[0;32m    437\u001b[0m         \u001b[1;32mtry\u001b[0m\u001b[1;33m:\u001b[0m\u001b[1;33m\u001b[0m\u001b[1;33m\u001b[0m\u001b[0m\n\u001b[0;32m    438\u001b[0m             \u001b[1;32mif\u001b[0m \u001b[1;32mnot\u001b[0m \u001b[0mchunked\u001b[0m\u001b[1;33m:\u001b[0m\u001b[1;33m\u001b[0m\u001b[1;33m\u001b[0m\u001b[0m\n\u001b[1;32m--> 439\u001b[1;33m                 resp = conn.urlopen(\n\u001b[0m\u001b[0;32m    440\u001b[0m                     \u001b[0mmethod\u001b[0m\u001b[1;33m=\u001b[0m\u001b[0mrequest\u001b[0m\u001b[1;33m.\u001b[0m\u001b[0mmethod\u001b[0m\u001b[1;33m,\u001b[0m\u001b[1;33m\u001b[0m\u001b[1;33m\u001b[0m\u001b[0m\n\u001b[0;32m    441\u001b[0m                     \u001b[0murl\u001b[0m\u001b[1;33m=\u001b[0m\u001b[0murl\u001b[0m\u001b[1;33m,\u001b[0m\u001b[1;33m\u001b[0m\u001b[1;33m\u001b[0m\u001b[0m\n",
      "\u001b[1;32m~\\anaconda3\\lib\\site-packages\\urllib3\\connectionpool.py\u001b[0m in \u001b[0;36murlopen\u001b[1;34m(self, method, url, body, headers, retries, redirect, assert_same_host, timeout, pool_timeout, release_conn, chunked, body_pos, **response_kw)\u001b[0m\n\u001b[0;32m    697\u001b[0m \u001b[1;33m\u001b[0m\u001b[0m\n\u001b[0;32m    698\u001b[0m             \u001b[1;31m# Make the request on the httplib connection object.\u001b[0m\u001b[1;33m\u001b[0m\u001b[1;33m\u001b[0m\u001b[1;33m\u001b[0m\u001b[0m\n\u001b[1;32m--> 699\u001b[1;33m             httplib_response = self._make_request(\n\u001b[0m\u001b[0;32m    700\u001b[0m                 \u001b[0mconn\u001b[0m\u001b[1;33m,\u001b[0m\u001b[1;33m\u001b[0m\u001b[1;33m\u001b[0m\u001b[0m\n\u001b[0;32m    701\u001b[0m                 \u001b[0mmethod\u001b[0m\u001b[1;33m,\u001b[0m\u001b[1;33m\u001b[0m\u001b[1;33m\u001b[0m\u001b[0m\n",
      "\u001b[1;32m~\\anaconda3\\lib\\site-packages\\urllib3\\connectionpool.py\u001b[0m in \u001b[0;36m_make_request\u001b[1;34m(self, conn, method, url, timeout, chunked, **httplib_request_kw)\u001b[0m\n\u001b[0;32m    443\u001b[0m                     \u001b[1;31m# Python 3 (including for exceptions like SystemExit).\u001b[0m\u001b[1;33m\u001b[0m\u001b[1;33m\u001b[0m\u001b[1;33m\u001b[0m\u001b[0m\n\u001b[0;32m    444\u001b[0m                     \u001b[1;31m# Otherwise it looks like a bug in the code.\u001b[0m\u001b[1;33m\u001b[0m\u001b[1;33m\u001b[0m\u001b[1;33m\u001b[0m\u001b[0m\n\u001b[1;32m--> 445\u001b[1;33m                     \u001b[0msix\u001b[0m\u001b[1;33m.\u001b[0m\u001b[0mraise_from\u001b[0m\u001b[1;33m(\u001b[0m\u001b[0me\u001b[0m\u001b[1;33m,\u001b[0m \u001b[1;32mNone\u001b[0m\u001b[1;33m)\u001b[0m\u001b[1;33m\u001b[0m\u001b[1;33m\u001b[0m\u001b[0m\n\u001b[0m\u001b[0;32m    446\u001b[0m         \u001b[1;32mexcept\u001b[0m \u001b[1;33m(\u001b[0m\u001b[0mSocketTimeout\u001b[0m\u001b[1;33m,\u001b[0m \u001b[0mBaseSSLError\u001b[0m\u001b[1;33m,\u001b[0m \u001b[0mSocketError\u001b[0m\u001b[1;33m)\u001b[0m \u001b[1;32mas\u001b[0m \u001b[0me\u001b[0m\u001b[1;33m:\u001b[0m\u001b[1;33m\u001b[0m\u001b[1;33m\u001b[0m\u001b[0m\n\u001b[0;32m    447\u001b[0m             \u001b[0mself\u001b[0m\u001b[1;33m.\u001b[0m\u001b[0m_raise_timeout\u001b[0m\u001b[1;33m(\u001b[0m\u001b[0merr\u001b[0m\u001b[1;33m=\u001b[0m\u001b[0me\u001b[0m\u001b[1;33m,\u001b[0m \u001b[0murl\u001b[0m\u001b[1;33m=\u001b[0m\u001b[0murl\u001b[0m\u001b[1;33m,\u001b[0m \u001b[0mtimeout_value\u001b[0m\u001b[1;33m=\u001b[0m\u001b[0mread_timeout\u001b[0m\u001b[1;33m)\u001b[0m\u001b[1;33m\u001b[0m\u001b[1;33m\u001b[0m\u001b[0m\n",
      "\u001b[1;32m~\\anaconda3\\lib\\site-packages\\urllib3\\packages\\six.py\u001b[0m in \u001b[0;36mraise_from\u001b[1;34m(value, from_value)\u001b[0m\n",
      "\u001b[1;32m~\\anaconda3\\lib\\site-packages\\urllib3\\connectionpool.py\u001b[0m in \u001b[0;36m_make_request\u001b[1;34m(self, conn, method, url, timeout, chunked, **httplib_request_kw)\u001b[0m\n\u001b[0;32m    438\u001b[0m                 \u001b[1;31m# Python 3\u001b[0m\u001b[1;33m\u001b[0m\u001b[1;33m\u001b[0m\u001b[1;33m\u001b[0m\u001b[0m\n\u001b[0;32m    439\u001b[0m                 \u001b[1;32mtry\u001b[0m\u001b[1;33m:\u001b[0m\u001b[1;33m\u001b[0m\u001b[1;33m\u001b[0m\u001b[0m\n\u001b[1;32m--> 440\u001b[1;33m                     \u001b[0mhttplib_response\u001b[0m \u001b[1;33m=\u001b[0m \u001b[0mconn\u001b[0m\u001b[1;33m.\u001b[0m\u001b[0mgetresponse\u001b[0m\u001b[1;33m(\u001b[0m\u001b[1;33m)\u001b[0m\u001b[1;33m\u001b[0m\u001b[1;33m\u001b[0m\u001b[0m\n\u001b[0m\u001b[0;32m    441\u001b[0m                 \u001b[1;32mexcept\u001b[0m \u001b[0mBaseException\u001b[0m \u001b[1;32mas\u001b[0m \u001b[0me\u001b[0m\u001b[1;33m:\u001b[0m\u001b[1;33m\u001b[0m\u001b[1;33m\u001b[0m\u001b[0m\n\u001b[0;32m    442\u001b[0m                     \u001b[1;31m# Remove the TypeError from the exception chain in\u001b[0m\u001b[1;33m\u001b[0m\u001b[1;33m\u001b[0m\u001b[1;33m\u001b[0m\u001b[0m\n",
      "\u001b[1;32m~\\anaconda3\\lib\\http\\client.py\u001b[0m in \u001b[0;36mgetresponse\u001b[1;34m(self)\u001b[0m\n\u001b[0;32m   1345\u001b[0m         \u001b[1;32mtry\u001b[0m\u001b[1;33m:\u001b[0m\u001b[1;33m\u001b[0m\u001b[1;33m\u001b[0m\u001b[0m\n\u001b[0;32m   1346\u001b[0m             \u001b[1;32mtry\u001b[0m\u001b[1;33m:\u001b[0m\u001b[1;33m\u001b[0m\u001b[1;33m\u001b[0m\u001b[0m\n\u001b[1;32m-> 1347\u001b[1;33m                 \u001b[0mresponse\u001b[0m\u001b[1;33m.\u001b[0m\u001b[0mbegin\u001b[0m\u001b[1;33m(\u001b[0m\u001b[1;33m)\u001b[0m\u001b[1;33m\u001b[0m\u001b[1;33m\u001b[0m\u001b[0m\n\u001b[0m\u001b[0;32m   1348\u001b[0m             \u001b[1;32mexcept\u001b[0m \u001b[0mConnectionError\u001b[0m\u001b[1;33m:\u001b[0m\u001b[1;33m\u001b[0m\u001b[1;33m\u001b[0m\u001b[0m\n\u001b[0;32m   1349\u001b[0m                 \u001b[0mself\u001b[0m\u001b[1;33m.\u001b[0m\u001b[0mclose\u001b[0m\u001b[1;33m(\u001b[0m\u001b[1;33m)\u001b[0m\u001b[1;33m\u001b[0m\u001b[1;33m\u001b[0m\u001b[0m\n",
      "\u001b[1;32m~\\anaconda3\\lib\\http\\client.py\u001b[0m in \u001b[0;36mbegin\u001b[1;34m(self)\u001b[0m\n\u001b[0;32m    305\u001b[0m         \u001b[1;31m# read until we get a non-100 response\u001b[0m\u001b[1;33m\u001b[0m\u001b[1;33m\u001b[0m\u001b[1;33m\u001b[0m\u001b[0m\n\u001b[0;32m    306\u001b[0m         \u001b[1;32mwhile\u001b[0m \u001b[1;32mTrue\u001b[0m\u001b[1;33m:\u001b[0m\u001b[1;33m\u001b[0m\u001b[1;33m\u001b[0m\u001b[0m\n\u001b[1;32m--> 307\u001b[1;33m             \u001b[0mversion\u001b[0m\u001b[1;33m,\u001b[0m \u001b[0mstatus\u001b[0m\u001b[1;33m,\u001b[0m \u001b[0mreason\u001b[0m \u001b[1;33m=\u001b[0m \u001b[0mself\u001b[0m\u001b[1;33m.\u001b[0m\u001b[0m_read_status\u001b[0m\u001b[1;33m(\u001b[0m\u001b[1;33m)\u001b[0m\u001b[1;33m\u001b[0m\u001b[1;33m\u001b[0m\u001b[0m\n\u001b[0m\u001b[0;32m    308\u001b[0m             \u001b[1;32mif\u001b[0m \u001b[0mstatus\u001b[0m \u001b[1;33m!=\u001b[0m \u001b[0mCONTINUE\u001b[0m\u001b[1;33m:\u001b[0m\u001b[1;33m\u001b[0m\u001b[1;33m\u001b[0m\u001b[0m\n\u001b[0;32m    309\u001b[0m                 \u001b[1;32mbreak\u001b[0m\u001b[1;33m\u001b[0m\u001b[1;33m\u001b[0m\u001b[0m\n",
      "\u001b[1;32m~\\anaconda3\\lib\\http\\client.py\u001b[0m in \u001b[0;36m_read_status\u001b[1;34m(self)\u001b[0m\n\u001b[0;32m    266\u001b[0m \u001b[1;33m\u001b[0m\u001b[0m\n\u001b[0;32m    267\u001b[0m     \u001b[1;32mdef\u001b[0m \u001b[0m_read_status\u001b[0m\u001b[1;33m(\u001b[0m\u001b[0mself\u001b[0m\u001b[1;33m)\u001b[0m\u001b[1;33m:\u001b[0m\u001b[1;33m\u001b[0m\u001b[1;33m\u001b[0m\u001b[0m\n\u001b[1;32m--> 268\u001b[1;33m         \u001b[0mline\u001b[0m \u001b[1;33m=\u001b[0m \u001b[0mstr\u001b[0m\u001b[1;33m(\u001b[0m\u001b[0mself\u001b[0m\u001b[1;33m.\u001b[0m\u001b[0mfp\u001b[0m\u001b[1;33m.\u001b[0m\u001b[0mreadline\u001b[0m\u001b[1;33m(\u001b[0m\u001b[0m_MAXLINE\u001b[0m \u001b[1;33m+\u001b[0m \u001b[1;36m1\u001b[0m\u001b[1;33m)\u001b[0m\u001b[1;33m,\u001b[0m \u001b[1;34m\"iso-8859-1\"\u001b[0m\u001b[1;33m)\u001b[0m\u001b[1;33m\u001b[0m\u001b[1;33m\u001b[0m\u001b[0m\n\u001b[0m\u001b[0;32m    269\u001b[0m         \u001b[1;32mif\u001b[0m \u001b[0mlen\u001b[0m\u001b[1;33m(\u001b[0m\u001b[0mline\u001b[0m\u001b[1;33m)\u001b[0m \u001b[1;33m>\u001b[0m \u001b[0m_MAXLINE\u001b[0m\u001b[1;33m:\u001b[0m\u001b[1;33m\u001b[0m\u001b[1;33m\u001b[0m\u001b[0m\n\u001b[0;32m    270\u001b[0m             \u001b[1;32mraise\u001b[0m \u001b[0mLineTooLong\u001b[0m\u001b[1;33m(\u001b[0m\u001b[1;34m\"status line\"\u001b[0m\u001b[1;33m)\u001b[0m\u001b[1;33m\u001b[0m\u001b[1;33m\u001b[0m\u001b[0m\n",
      "\u001b[1;32m~\\anaconda3\\lib\\socket.py\u001b[0m in \u001b[0;36mreadinto\u001b[1;34m(self, b)\u001b[0m\n\u001b[0;32m    667\u001b[0m         \u001b[1;32mwhile\u001b[0m \u001b[1;32mTrue\u001b[0m\u001b[1;33m:\u001b[0m\u001b[1;33m\u001b[0m\u001b[1;33m\u001b[0m\u001b[0m\n\u001b[0;32m    668\u001b[0m             \u001b[1;32mtry\u001b[0m\u001b[1;33m:\u001b[0m\u001b[1;33m\u001b[0m\u001b[1;33m\u001b[0m\u001b[0m\n\u001b[1;32m--> 669\u001b[1;33m                 \u001b[1;32mreturn\u001b[0m \u001b[0mself\u001b[0m\u001b[1;33m.\u001b[0m\u001b[0m_sock\u001b[0m\u001b[1;33m.\u001b[0m\u001b[0mrecv_into\u001b[0m\u001b[1;33m(\u001b[0m\u001b[0mb\u001b[0m\u001b[1;33m)\u001b[0m\u001b[1;33m\u001b[0m\u001b[1;33m\u001b[0m\u001b[0m\n\u001b[0m\u001b[0;32m    670\u001b[0m             \u001b[1;32mexcept\u001b[0m \u001b[0mtimeout\u001b[0m\u001b[1;33m:\u001b[0m\u001b[1;33m\u001b[0m\u001b[1;33m\u001b[0m\u001b[0m\n\u001b[0;32m    671\u001b[0m                 \u001b[0mself\u001b[0m\u001b[1;33m.\u001b[0m\u001b[0m_timeout_occurred\u001b[0m \u001b[1;33m=\u001b[0m \u001b[1;32mTrue\u001b[0m\u001b[1;33m\u001b[0m\u001b[1;33m\u001b[0m\u001b[0m\n",
      "\u001b[1;32m~\\anaconda3\\lib\\ssl.py\u001b[0m in \u001b[0;36mrecv_into\u001b[1;34m(self, buffer, nbytes, flags)\u001b[0m\n\u001b[0;32m   1239\u001b[0m                   \u001b[1;34m\"non-zero flags not allowed in calls to recv_into() on %s\"\u001b[0m \u001b[1;33m%\u001b[0m\u001b[1;33m\u001b[0m\u001b[1;33m\u001b[0m\u001b[0m\n\u001b[0;32m   1240\u001b[0m                   self.__class__)\n\u001b[1;32m-> 1241\u001b[1;33m             \u001b[1;32mreturn\u001b[0m \u001b[0mself\u001b[0m\u001b[1;33m.\u001b[0m\u001b[0mread\u001b[0m\u001b[1;33m(\u001b[0m\u001b[0mnbytes\u001b[0m\u001b[1;33m,\u001b[0m \u001b[0mbuffer\u001b[0m\u001b[1;33m)\u001b[0m\u001b[1;33m\u001b[0m\u001b[1;33m\u001b[0m\u001b[0m\n\u001b[0m\u001b[0;32m   1242\u001b[0m         \u001b[1;32melse\u001b[0m\u001b[1;33m:\u001b[0m\u001b[1;33m\u001b[0m\u001b[1;33m\u001b[0m\u001b[0m\n\u001b[0;32m   1243\u001b[0m             \u001b[1;32mreturn\u001b[0m \u001b[0msuper\u001b[0m\u001b[1;33m(\u001b[0m\u001b[1;33m)\u001b[0m\u001b[1;33m.\u001b[0m\u001b[0mrecv_into\u001b[0m\u001b[1;33m(\u001b[0m\u001b[0mbuffer\u001b[0m\u001b[1;33m,\u001b[0m \u001b[0mnbytes\u001b[0m\u001b[1;33m,\u001b[0m \u001b[0mflags\u001b[0m\u001b[1;33m)\u001b[0m\u001b[1;33m\u001b[0m\u001b[1;33m\u001b[0m\u001b[0m\n",
      "\u001b[1;32m~\\anaconda3\\lib\\ssl.py\u001b[0m in \u001b[0;36mread\u001b[1;34m(self, len, buffer)\u001b[0m\n\u001b[0;32m   1097\u001b[0m         \u001b[1;32mtry\u001b[0m\u001b[1;33m:\u001b[0m\u001b[1;33m\u001b[0m\u001b[1;33m\u001b[0m\u001b[0m\n\u001b[0;32m   1098\u001b[0m             \u001b[1;32mif\u001b[0m \u001b[0mbuffer\u001b[0m \u001b[1;32mis\u001b[0m \u001b[1;32mnot\u001b[0m \u001b[1;32mNone\u001b[0m\u001b[1;33m:\u001b[0m\u001b[1;33m\u001b[0m\u001b[1;33m\u001b[0m\u001b[0m\n\u001b[1;32m-> 1099\u001b[1;33m                 \u001b[1;32mreturn\u001b[0m \u001b[0mself\u001b[0m\u001b[1;33m.\u001b[0m\u001b[0m_sslobj\u001b[0m\u001b[1;33m.\u001b[0m\u001b[0mread\u001b[0m\u001b[1;33m(\u001b[0m\u001b[0mlen\u001b[0m\u001b[1;33m,\u001b[0m \u001b[0mbuffer\u001b[0m\u001b[1;33m)\u001b[0m\u001b[1;33m\u001b[0m\u001b[1;33m\u001b[0m\u001b[0m\n\u001b[0m\u001b[0;32m   1100\u001b[0m             \u001b[1;32melse\u001b[0m\u001b[1;33m:\u001b[0m\u001b[1;33m\u001b[0m\u001b[1;33m\u001b[0m\u001b[0m\n\u001b[0;32m   1101\u001b[0m                 \u001b[1;32mreturn\u001b[0m \u001b[0mself\u001b[0m\u001b[1;33m.\u001b[0m\u001b[0m_sslobj\u001b[0m\u001b[1;33m.\u001b[0m\u001b[0mread\u001b[0m\u001b[1;33m(\u001b[0m\u001b[0mlen\u001b[0m\u001b[1;33m)\u001b[0m\u001b[1;33m\u001b[0m\u001b[1;33m\u001b[0m\u001b[0m\n",
      "\u001b[1;31mKeyboardInterrupt\u001b[0m: "
     ]
    }
   ],
   "source": [
    "for i in symbol:\n",
    "    ticker=i\n",
    "    print('Last year datapoints of',i)\n",
    "    for i in range(12-int(one_yr_back.month)+1):\n",
    "        day = dt.datetime.today().weekday()\n",
    "        n_days=400\n",
    "        \n",
    "    \n",
    "        end = dt.datetime.today()\n",
    "        \n",
    "        start = end - dt.timedelta(days=n_days)\n",
    "        #diff=end-start\n",
    "    \n",
    "        data = pdr.get_data_yahoo(ticker, start, end)\n",
    "        data=data.reset_index()\n",
    "        data['Date']=data['Date'].dt.date\n",
    "        \n",
    "        a=one_yr_back.replace(month=int(one_yr_back.month)+i,day=1)\n",
    "        \n",
    "        b=last_day_of_month(a)\n",
    "        #print(a,b)\n",
    "        last_thursday= pd.date_range(a, last_day_of_month(a), freq=\"W-THU\").values[-1]\n",
    "        last_thursday=pd.to_datetime(last_thursday).date()\n",
    "        filter1=data['Date']>=a\n",
    "        filter2=data['Date']<=last_thursday\n",
    "        #print(data.where(filter1 & filter2).dropna().head(10))\n",
    "        data=data.where(filter1 & filter2).dropna()[-days_to_expiry:]\n",
    "        data['Log returns'] = np.log(data['Close']/data['Close'].shift())\n",
    "        data['Log returns'].std()\n",
    "        final=data['Log returns'].std()*252**.5\n",
    "        print(last_thursday,final)"
   ]
  },
  {
   "cell_type": "code",
   "execution_count": 44,
   "id": "e4cb4e73",
   "metadata": {},
   "outputs": [
    {
     "name": "stdout",
     "output_type": "stream",
     "text": [
      "This year datapoints of ADANIPORTS.NS\n",
      "2022-01-27 0.27499438598394443\n",
      "This year datapoints of ASIANPAINT.NS\n",
      "2022-01-27 0.238300767789573\n",
      "This year datapoints of ICICIBANK.NS\n",
      "2022-01-27 0.16031644437868758\n"
     ]
    }
   ],
   "source": [
    "for i in symbol:\n",
    "    ticker=i\n",
    "    print('This year datapoints of',i)\n",
    "    for i in range(dt.datetime.today().month-1):\n",
    "        \n",
    "        day = dt.datetime.today().weekday()\n",
    "        n_days=400\n",
    "        \n",
    "    \n",
    "        end = dt.datetime.today()\n",
    "        \n",
    "        start = end - dt.timedelta(days=n_days)\n",
    "        #diff=end-start\n",
    "    \n",
    "        data = pdr.get_data_yahoo(ticker, start, end)\n",
    "        data=data.reset_index()\n",
    "        data['Date']=data['Date'].dt.date\n",
    "        \n",
    "        a=date.today().replace(month=1,day=1)\n",
    "        \n",
    "        b=last_day_of_month(a)\n",
    "        #print(a,b)\n",
    "        last_thursday= pd.date_range(a, last_day_of_month(a), freq=\"W-THU\").values[-1]\n",
    "        last_thursday=pd.to_datetime(last_thursday).date()\n",
    "        filter1=data['Date']>=a\n",
    "        filter2=data['Date']<=last_thursday\n",
    "        #print(data.where(filter1 & filter2).dropna().head(10))\n",
    "        data=data.where(filter1 & filter2).dropna()[-days_to_expiry:]\n",
    "        data['Log returns'] = np.log(data['Close']/data['Close'].shift())\n",
    "        data['Log returns'].std()\n",
    "        final=data['Log returns'].std()*252**.5\n",
    "        print(last_thursday,final)"
   ]
  },
  {
   "cell_type": "code",
   "execution_count": 41,
   "id": "46d2ad31",
   "metadata": {},
   "outputs": [
    {
     "data": {
      "image/png": "[encoded data removed]",
      "text/plain": [
       "<Figure size 432x288 with 1 Axes>"
      ]
     },
     "metadata": {
      "needs_background": "light"
     },
     "output_type": "display_data"
    },
    {
     "name": "stderr",
     "output_type": "stream",
     "text": [
      "WARNING:root:SKIPPED kstwo distribution (taking more than 30 seconds)\n",
      "WARNING:root:SKIPPED rv_continuous distribution (taking more than 30 seconds)\n",
      "WARNING:root:SKIPPED rv_histogram distribution (taking more than 30 seconds)\n"
     ]
    },
    {
     "data": {
      "text/html": [
       "<div>\n",
       "<style scoped>\n",
       "    .dataframe tbody tr th:only-of-type {\n",
       "        vertical-align: middle;\n",
       "    }\n",
       "\n",
       "    .dataframe tbody tr th {\n",
       "        vertical-align: top;\n",
       "    }\n",
       "\n",
       "    .dataframe thead th {\n",
       "        text-align: right;\n",
       "    }\n",
       "</style>\n",
       "<table border=\"1\" class=\"dataframe\">\n",
       "  <thead>\n",
       "    <tr style=\"text-align: right;\">\n",
       "      <th></th>\n",
       "      <th>sumsquare_error</th>\n",
       "      <th>aic</th>\n",
       "      <th>bic</th>\n",
       "      <th>kl_div</th>\n",
       "    </tr>\n",
       "  </thead>\n",
       "  <tbody>\n",
       "    <tr>\n",
       "      <th>betaprime</th>\n",
       "      <td>1.703584</td>\n",
       "      <td>793.265962</td>\n",
       "      <td>-50.775452</td>\n",
       "      <td>inf</td>\n",
       "    </tr>\n",
       "    <tr>\n",
       "      <th>burr</th>\n",
       "      <td>1.792748</td>\n",
       "      <td>775.199112</td>\n",
       "      <td>-49.551086</td>\n",
       "      <td>inf</td>\n",
       "    </tr>\n",
       "    <tr>\n",
       "      <th>fatiguelife</th>\n",
       "      <td>1.837351</td>\n",
       "      <td>680.370292</td>\n",
       "      <td>-52.139337</td>\n",
       "      <td>inf</td>\n",
       "    </tr>\n",
       "    <tr>\n",
       "      <th>burr12</th>\n",
       "      <td>1.839777</td>\n",
       "      <td>784.590852</td>\n",
       "      <td>-48.929612</td>\n",
       "      <td>inf</td>\n",
       "    </tr>\n",
       "    <tr>\n",
       "      <th>t</th>\n",
       "      <td>1.964101</td>\n",
       "      <td>974.960463</td>\n",
       "      <td>-50.538301</td>\n",
       "      <td>inf</td>\n",
       "    </tr>\n",
       "  </tbody>\n",
       "</table>\n",
       "</div>"
      ],
      "text/plain": [
       "             sumsquare_error         aic        bic  kl_div\n",
       "betaprime           1.703584  793.265962 -50.775452     inf\n",
       "burr                1.792748  775.199112 -49.551086     inf\n",
       "fatiguelife         1.837351  680.370292 -52.139337     inf\n",
       "burr12              1.839777  784.590852 -48.929612     inf\n",
       "t                   1.964101  974.960463 -50.538301     inf"
      ]
     },
     "execution_count": 41,
     "metadata": {},
     "output_type": "execute_result"
    },
    {
     "data": {
      "image/png": "[encoded data removed]",
      "text/plain": [
       "<Figure size 432x288 with 1 Axes>"
      ]
     },
     "metadata": {
      "needs_background": "light"
     },
     "output_type": "display_data"
    }
   ],
   "source": [
    "import matplotlib.pyplot as plt\n",
    " \n",
    "# x axis values\n",
    "x = [1,2,3,4,5,6,7,8,9,10,11,12]\n",
    "# corresponding y axis values\n",
    "y = [0.3392684229187174,\n",
    " 0.40650544158828905,\n",
    " 0.5170564433964387,\n",
    " 0.2666608844552336,\n",
    " 0.766911825051607,\n",
    " 0.2545570559109843,\n",
    " 0.3299852566180477,\n",
    " 0.17650027649509087,\n",
    " 0.4993478993502873,\n",
    " 0.262532649987422,\n",
    " 0.2656304259842062,0.27499438598394443]\n",
    " \n",
    "# plotting the points\n",
    "plt.plot(x, y)\n",
    " \n",
    "# naming the x axis\n",
    "plt.xlabel('Months')\n",
    "# naming the y axis\n",
    "plt.ylabel('R_vol')\n",
    " \n",
    "# giving a title to my graph\n",
    "plt.title('Adaniports')\n",
    " \n",
    "# function to show the plot\n",
    "plt.show()\n",
    "import pandas as pd\n",
    "  \n",
    "# list of strings\n",
    "lst = [1,2,3,4,5,6,7,8,9,10,11,12]\n",
    "# list of int\n",
    "lst2 = [0.3392684229187174,\n",
    " 0.40650544158828905,\n",
    " 0.5170564433964387,\n",
    " 0.2666608844552336,\n",
    " 0.766911825051607,\n",
    " 0.2545570559109843,\n",
    " 0.3299852566180477,\n",
    " 0.17650027649509087,\n",
    " 0.4993478993502873,\n",
    " 0.262532649987422,\n",
    " 0.2656304259842062,0.27499438598394443]\n",
    "  \n",
    "# Calling DataFrame constructor after zipping\n",
    "# both lists, with columns specified\n",
    "df = pd.DataFrame(list(zip(lst, lst2)),\n",
    "               columns =['Name', 'val'])\n",
    "df\n",
    "from fitter import Fitter\n",
    "f = Fitter(df)\n",
    "f.fit()\n",
    "# may take some time since by default, all distributions are tried\n",
    "# but you call manually provide a smaller set of distributions\n",
    "f.summary()"
   ]
  },
  {
   "cell_type": "code",
   "execution_count": 40,
   "id": "41bb528b",
   "metadata": {},
   "outputs": [
    {
     "name": "stderr",
     "output_type": "stream",
     "text": [
      "WARNING:root:SKIPPED kstwo distribution (taking more than 30 seconds)\n",
      "WARNING:root:SKIPPED rv_continuous distribution (taking more than 30 seconds)\n",
      "WARNING:root:SKIPPED rv_histogram distribution (taking more than 30 seconds)\n"
     ]
    },
    {
     "data": {
      "text/html": [
       "<div>\n",
       "<style scoped>\n",
       "    .dataframe tbody tr th:only-of-type {\n",
       "        vertical-align: middle;\n",
       "    }\n",
       "\n",
       "    .dataframe tbody tr th {\n",
       "        vertical-align: top;\n",
       "    }\n",
       "\n",
       "    .dataframe thead th {\n",
       "        text-align: right;\n",
       "    }\n",
       "</style>\n",
       "<table border=\"1\" class=\"dataframe\">\n",
       "  <thead>\n",
       "    <tr style=\"text-align: right;\">\n",
       "      <th></th>\n",
       "      <th>sumsquare_error</th>\n",
       "      <th>aic</th>\n",
       "      <th>bic</th>\n",
       "      <th>kl_div</th>\n",
       "    </tr>\n",
       "  </thead>\n",
       "  <tbody>\n",
       "    <tr>\n",
       "      <th>betaprime</th>\n",
       "      <td>1.703584</td>\n",
       "      <td>793.265962</td>\n",
       "      <td>-50.775452</td>\n",
       "      <td>inf</td>\n",
       "    </tr>\n",
       "    <tr>\n",
       "      <th>burr</th>\n",
       "      <td>1.792748</td>\n",
       "      <td>775.199112</td>\n",
       "      <td>-49.551086</td>\n",
       "      <td>inf</td>\n",
       "    </tr>\n",
       "    <tr>\n",
       "      <th>fatiguelife</th>\n",
       "      <td>1.837351</td>\n",
       "      <td>680.370292</td>\n",
       "      <td>-52.139337</td>\n",
       "      <td>inf</td>\n",
       "    </tr>\n",
       "    <tr>\n",
       "      <th>burr12</th>\n",
       "      <td>1.839777</td>\n",
       "      <td>784.590852</td>\n",
       "      <td>-48.929612</td>\n",
       "      <td>inf</td>\n",
       "    </tr>\n",
       "    <tr>\n",
       "      <th>t</th>\n",
       "      <td>1.964101</td>\n",
       "      <td>974.960463</td>\n",
       "      <td>-50.538301</td>\n",
       "      <td>inf</td>\n",
       "    </tr>\n",
       "  </tbody>\n",
       "</table>\n",
       "</div>"
      ],
      "text/plain": [
       "             sumsquare_error         aic        bic  kl_div\n",
       "betaprime           1.703584  793.265962 -50.775452     inf\n",
       "burr                1.792748  775.199112 -49.551086     inf\n",
       "fatiguelife         1.837351  680.370292 -52.139337     inf\n",
       "burr12              1.839777  784.590852 -48.929612     inf\n",
       "t                   1.964101  974.960463 -50.538301     inf"
      ]
     },
     "execution_count": 40,
     "metadata": {},
     "output_type": "execute_result"
    },
    {
     "data": {
      "image/png": "[encoded data removed]",
      "text/plain": [
       "<Figure size 432x288 with 1 Axes>"
      ]
     },
     "metadata": {
      "needs_background": "light"
     },
     "output_type": "display_data"
    }
   ],
   "source": [
    "from fitter import Fitter\n",
    "f = Fitter(df)\n",
    "f.fit()\n",
    "# may take some time since by default, all distributions are tried\n",
    "# but you call manually provide a smaller set of distributions\n",
    "f.summary()"
   ]
  },
  {
   "cell_type": "code",
   "execution_count": null,
   "id": "ecf6f2b0",
   "metadata": {},
   "outputs": [],
   "source": []
  },
  {
   "cell_type": "code",
   "execution_count": 46,
   "id": "b1eddeb8",
   "metadata": {},
   "outputs": [
    {
     "data": {
      "image/png": "[encoded data removed]",
      "text/plain": [
       "<Figure size 432x288 with 1 Axes>"
      ]
     },
     "metadata": {
      "needs_background": "light"
     },
     "output_type": "display_data"
    },
    {
     "name": "stderr",
     "output_type": "stream",
     "text": [
      "WARNING:root:SKIPPED kstwo distribution (taking more than 30 seconds)\n",
      "WARNING:root:SKIPPED rv_continuous distribution (taking more than 30 seconds)\n",
      "WARNING:root:SKIPPED rv_histogram distribution (taking more than 30 seconds)\n"
     ]
    },
    {
     "data": {
      "text/html": [
       "<div>\n",
       "<style scoped>\n",
       "    .dataframe tbody tr th:only-of-type {\n",
       "        vertical-align: middle;\n",
       "    }\n",
       "\n",
       "    .dataframe tbody tr th {\n",
       "        vertical-align: top;\n",
       "    }\n",
       "\n",
       "    .dataframe thead th {\n",
       "        text-align: right;\n",
       "    }\n",
       "</style>\n",
       "<table border=\"1\" class=\"dataframe\">\n",
       "  <thead>\n",
       "    <tr style=\"text-align: right;\">\n",
       "      <th></th>\n",
       "      <th>sumsquare_error</th>\n",
       "      <th>aic</th>\n",
       "      <th>bic</th>\n",
       "      <th>kl_div</th>\n",
       "    </tr>\n",
       "  </thead>\n",
       "  <tbody>\n",
       "    <tr>\n",
       "      <th>johnsonsb</th>\n",
       "      <td>5258.121748</td>\n",
       "      <td>-31.432482</td>\n",
       "      <td>82.931097</td>\n",
       "      <td>inf</td>\n",
       "    </tr>\n",
       "    <tr>\n",
       "      <th>beta</th>\n",
       "      <td>5275.673934</td>\n",
       "      <td>-178.542013</td>\n",
       "      <td>82.971087</td>\n",
       "      <td>inf</td>\n",
       "    </tr>\n",
       "    <tr>\n",
       "      <th>powerlaw</th>\n",
       "      <td>5275.852200</td>\n",
       "      <td>-158.042949</td>\n",
       "      <td>80.486586</td>\n",
       "      <td>inf</td>\n",
       "    </tr>\n",
       "    <tr>\n",
       "      <th>nakagami</th>\n",
       "      <td>5293.936587</td>\n",
       "      <td>-117.027106</td>\n",
       "      <td>80.527649</td>\n",
       "      <td>inf</td>\n",
       "    </tr>\n",
       "    <tr>\n",
       "      <th>exponpow</th>\n",
       "      <td>5360.817615</td>\n",
       "      <td>-60.272125</td>\n",
       "      <td>80.678302</td>\n",
       "      <td>inf</td>\n",
       "    </tr>\n",
       "  </tbody>\n",
       "</table>\n",
       "</div>"
      ],
      "text/plain": [
       "           sumsquare_error         aic        bic  kl_div\n",
       "johnsonsb      5258.121748  -31.432482  82.931097     inf\n",
       "beta           5275.673934 -178.542013  82.971087     inf\n",
       "powerlaw       5275.852200 -158.042949  80.486586     inf\n",
       "nakagami       5293.936587 -117.027106  80.527649     inf\n",
       "exponpow       5360.817615  -60.272125  80.678302     inf"
      ]
     },
     "execution_count": 46,
     "metadata": {},
     "output_type": "execute_result"
    },
    {
     "data": {
      "image/png": "[encoded data removed]",
      "text/plain": [
       "<Figure size 432x288 with 1 Axes>"
      ]
     },
     "metadata": {
      "needs_background": "light"
     },
     "output_type": "display_data"
    }
   ],
   "source": [
    "import matplotlib.pyplot as plt\n",
    " \n",
    "# x axis values\n",
    "x = [1,2,3,4,5,6,7,8,9,10,11,12]\n",
    "# corresponding y axis values\n",
    "y = [0.38145998598316366\n",
    ", 0.281069587728402\n",
    ", 0.41789158598966375\n",
    ", 0.2792396034238677\n",
    ", 0.14830765568771426\n",
    ", 0.2469590947136948\n",
    ", 0.1677346022959792\n",
    ", 0.20098065403881218\n",
    ", 0.49079925572524263\n",
    ", 0.13937817200200386\n",
    ", 0.18865532062476262\n",
    "    ,0.16031644437868758]\n",
    " \n",
    "# plotting the points\n",
    "plt.plot(x, y)\n",
    " \n",
    "# naming the x axis\n",
    "plt.xlabel('Months')\n",
    "# naming the y axis\n",
    "plt.ylabel('R_vol')\n",
    " \n",
    "# giving a title to my graph\n",
    "plt.title('ICICI')\n",
    " \n",
    "# function to show the plot\n",
    "plt.show()\n",
    "import pandas as pd\n",
    "  \n",
    "# list of strings\n",
    "\n",
    "  \n",
    "# Calling DataFrame constructor after zipping\n",
    "# both lists, with columns specified\n",
    "df = pd.DataFrame(list(zip(x, y)),\n",
    "               columns =['Months', 'R_Vol'])\n",
    "df\n",
    "from fitter import Fitter\n",
    "f = Fitter(df['R_Vol'])\n",
    "f.fit()\n",
    "# may take some time since by default, all distributions are tried\n",
    "# but you call manually provide a smaller set of distributions\n",
    "f.summary()"
   ]
  },
  {
   "cell_type": "code",
   "execution_count": 47,
   "id": "10bce012",
   "metadata": {},
   "outputs": [
    {
     "data": {
      "image/png": "[encoded data removed]",
      "text/plain": [
       "<Figure size 432x288 with 1 Axes>"
      ]
     },
     "metadata": {
      "needs_background": "light"
     },
     "output_type": "display_data"
    },
    {
     "name": "stderr",
     "output_type": "stream",
     "text": [
      "WARNING:root:SKIPPED kstwo distribution (taking more than 30 seconds)\n",
      "WARNING:root:SKIPPED rv_continuous distribution (taking more than 30 seconds)\n",
      "WARNING:root:SKIPPED rv_histogram distribution (taking more than 30 seconds)\n",
      "C:\\Users\\yatha\\anaconda3\\lib\\site-packages\\scipy\\stats\\_continuous_distns.py:4523: IntegrationWarning: The integral is probably divergent, or slowly convergent.\n",
      "  intg = integrate.quad(f, -xi, np.pi/2, **intg_kwargs)[0]\n",
      "WARNING:root:SKIPPED levy_stable distribution (taking more than 30 seconds)\n",
      "WARNING:root:SKIPPED recipinvgauss distribution (taking more than 30 seconds)\n"
     ]
    },
    {
     "data": {
      "text/html": [
       "<div>\n",
       "<style scoped>\n",
       "    .dataframe tbody tr th:only-of-type {\n",
       "        vertical-align: middle;\n",
       "    }\n",
       "\n",
       "    .dataframe tbody tr th {\n",
       "        vertical-align: top;\n",
       "    }\n",
       "\n",
       "    .dataframe thead th {\n",
       "        text-align: right;\n",
       "    }\n",
       "</style>\n",
       "<table border=\"1\" class=\"dataframe\">\n",
       "  <thead>\n",
       "    <tr style=\"text-align: right;\">\n",
       "      <th></th>\n",
       "      <th>sumsquare_error</th>\n",
       "      <th>aic</th>\n",
       "      <th>bic</th>\n",
       "      <th>kl_div</th>\n",
       "    </tr>\n",
       "  </thead>\n",
       "  <tbody>\n",
       "    <tr>\n",
       "      <th>johnsonsb</th>\n",
       "      <td>22580.997492</td>\n",
       "      <td>-256.116985</td>\n",
       "      <td>100.419115</td>\n",
       "      <td>inf</td>\n",
       "    </tr>\n",
       "    <tr>\n",
       "      <th>nakagami</th>\n",
       "      <td>23620.510534</td>\n",
       "      <td>-275.716993</td>\n",
       "      <td>98.474289</td>\n",
       "      <td>inf</td>\n",
       "    </tr>\n",
       "    <tr>\n",
       "      <th>exponpow</th>\n",
       "      <td>23627.252071</td>\n",
       "      <td>-246.025163</td>\n",
       "      <td>98.477713</td>\n",
       "      <td>inf</td>\n",
       "    </tr>\n",
       "    <tr>\n",
       "      <th>gausshyper</th>\n",
       "      <td>23656.174348</td>\n",
       "      <td>-297.001278</td>\n",
       "      <td>105.947113</td>\n",
       "      <td>inf</td>\n",
       "    </tr>\n",
       "    <tr>\n",
       "      <th>f</th>\n",
       "      <td>23918.804673</td>\n",
       "      <td>-252.418782</td>\n",
       "      <td>101.109790</td>\n",
       "      <td>inf</td>\n",
       "    </tr>\n",
       "  </tbody>\n",
       "</table>\n",
       "</div>"
      ],
      "text/plain": [
       "            sumsquare_error         aic         bic  kl_div\n",
       "johnsonsb      22580.997492 -256.116985  100.419115     inf\n",
       "nakagami       23620.510534 -275.716993   98.474289     inf\n",
       "exponpow       23627.252071 -246.025163   98.477713     inf\n",
       "gausshyper     23656.174348 -297.001278  105.947113     inf\n",
       "f              23918.804673 -252.418782  101.109790     inf"
      ]
     },
     "execution_count": 47,
     "metadata": {},
     "output_type": "execute_result"
    },
    {
     "data": {
      "image/png": "[encoded data removed]",
      "text/plain": [
       "<Figure size 432x288 with 1 Axes>"
      ]
     },
     "metadata": {
      "needs_background": "light"
     },
     "output_type": "display_data"
    }
   ],
   "source": [
    "import matplotlib.pyplot as plt\n",
    " \n",
    "# x axis values\n",
    "x = [1,2,3,4,5,6,7,8,9,10,11,12]\n",
    "# corresponding y axis values\n",
    "y = [0.2839253641932359\n",
    ", 0.2755736434424067\n",
    ", 0.2479242953306993\n",
    ", 0.35913813045701315\n",
    ", 0.19056808981111312\n",
    ", 0.2686599530374991\n",
    ", 0.19537358524109136\n",
    ", 0.2292294881334299\n",
    ", 0.3497810576572337\n",
    ", 0.22611799286740217\n",
    ", 0.19600801500318368\n",
    ",  0.238300767789573  ]\n",
    "\n",
    "# plotting the points\n",
    "plt.plot(x, y)\n",
    " \n",
    "# naming the x axis\n",
    "plt.xlabel('Months')\n",
    "# naming the y axis\n",
    "plt.ylabel('R_vol')\n",
    " \n",
    "# giving a title to my graph\n",
    "plt.title('ASIAN')\n",
    " \n",
    "# function to show the plot\n",
    "plt.show()\n",
    "import pandas as pd\n",
    "  \n",
    "# list of strings\n",
    "\n",
    "  \n",
    "\n",
    "df = pd.DataFrame(list(zip(x, y)),\n",
    "               columns =['Months', 'R_Vol'])\n",
    "df\n",
    "from fitter import Fitter\n",
    "f = Fitter(df['R_Vol'])\n",
    "f.fit()\n",
    "\n",
    "f.summary()"
   ]
  }
 ],
 "metadata": {
  "kernelspec": {
   "display_name": "Python 3 (ipykernel)",
   "language": "python",
   "name": "python3"
  },
  "language_info": {
   "codemirror_mode": {
    "name": "ipython",
    "version": 3
   },
   "file_extension": ".py",
   "mimetype": "text/x-python",
   "name": "python",
   "nbconvert_exporter": "python",
   "pygments_lexer": "ipython3",
   "version": "3.9.7"
  }
 },
 "nbformat": 4,
 "nbformat_minor": 5
}
