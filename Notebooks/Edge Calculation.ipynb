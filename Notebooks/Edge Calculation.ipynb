{
 "cells": [
  {
   "cell_type": "code",
   "execution_count": 5,
   "id": "aff65271",
   "metadata": {},
   "outputs": [],
   "source": [
    "import pandas as pd\n",
    "import numpy as np\n",
    "import json\n",
    "import pandas as pd\n",
    "import requests\n",
    "from time import gmtime, strftime\n",
    "import datetime as dt\n",
    "import datetime\n",
    "\n",
    "from datetime import date, timedelta"
   ]
  },
  {
   "cell_type": "code",
   "execution_count": 12,
   "id": "3401e1d5",
   "metadata": {},
   "outputs": [],
   "source": [
    "first_day_of_month = date.today().replace(day=1)\n",
    "today_date = date.today()\n",
    "def last_day_of_month(any_day):\n",
    "    # get close to the end of the month for any day, and add 4 days 'over'\n",
    "    next_month = any_day.replace(day=28) + dt.timedelta(days=4)\n",
    "    # subtract the number of remaining 'overage' days to get last day of current month, or said programattically said, the previous day of the first of next month\n",
    "    return next_month - dt.timedelta(days=next_month.day)\n",
    "\n",
    "\n",
    "last_day_of_month = last_day_of_month(first_day_of_month)\n",
    "last_thursday= pd.date_range(first_day_of_month, last_day_of_month, freq=\"W-THU\").values[-1]\n",
    "last_thursday=pd.to_datetime(last_thursday).date()"
   ]
  },
  {
   "cell_type": "code",
   "execution_count": 8,
   "id": "9bb87bd0",
   "metadata": {},
   "outputs": [
    {
     "data": {
      "text/plain": [
       "datetime.date(2022, 2, 24)"
      ]
     },
     "execution_count": 8,
     "metadata": {},
     "output_type": "execute_result"
    }
   ],
   "source": [
    "last_thursday"
   ]
  },
  {
   "cell_type": "code",
   "execution_count": 9,
   "id": "2a83aac3",
   "metadata": {},
   "outputs": [
    {
     "data": {
      "text/plain": [
       "datetime.date(2022, 2, 1)"
      ]
     },
     "execution_count": 9,
     "metadata": {},
     "output_type": "execute_result"
    }
   ],
   "source": [
    "first_day_of_month"
   ]
  },
  {
   "cell_type": "code",
   "execution_count": 10,
   "id": "316e2434",
   "metadata": {},
   "outputs": [
    {
     "data": {
      "text/plain": [
       "datetime.date(2022, 2, 28)"
      ]
     },
     "execution_count": 10,
     "metadata": {},
     "output_type": "execute_result"
    }
   ],
   "source": [
    "last_day_of_month"
   ]
  },
  {
   "cell_type": "code",
   "execution_count": 13,
   "id": "126911b4",
   "metadata": {},
   "outputs": [
    {
     "data": {
      "text/plain": [
       "datetime.date(2022, 2, 23)"
      ]
     },
     "execution_count": 13,
     "metadata": {},
     "output_type": "execute_result"
    }
   ],
   "source": [
    "today_date"
   ]
  },
  {
   "cell_type": "code",
   "execution_count": 14,
   "id": "ef5b5522",
   "metadata": {},
   "outputs": [],
   "source": [
    "one_yr_back = today_date.replace(year=int(date.today().year)-1)"
   ]
  },
  {
   "cell_type": "code",
   "execution_count": 15,
   "id": "3124a4c6",
   "metadata": {},
   "outputs": [
    {
     "data": {
      "text/plain": [
       "datetime.date(2021, 2, 23)"
      ]
     },
     "execution_count": 15,
     "metadata": {},
     "output_type": "execute_result"
    }
   ],
   "source": [
    "one_yr_back"
   ]
  },
  {
   "cell_type": "code",
   "execution_count": null,
   "id": "5b28b6e0",
   "metadata": {},
   "outputs": [],
   "source": []
  }
 ],
 "metadata": {
  "kernelspec": {
   "display_name": "Python 3 (ipykernel)",
   "language": "python",
   "name": "python3"
  },
  "language_info": {
   "codemirror_mode": {
    "name": "ipython",
    "version": 3
   },
   "file_extension": ".py",
   "mimetype": "text/x-python",
   "name": "python",
   "nbconvert_exporter": "python",
   "pygments_lexer": "ipython3",
   "version": "3.9.7"
  }
 },
 "nbformat": 4,
 "nbformat_minor": 5
}
