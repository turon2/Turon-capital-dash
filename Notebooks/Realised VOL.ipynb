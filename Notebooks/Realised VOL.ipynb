{
 "cells": [
  {
   "cell_type": "code",
   "execution_count": 8,
   "id": "4ee7cbaf",
   "metadata": {},
   "outputs": [],
   "source": [
    "import math\n",
    "import numpy as np\n",
    "from nsepy import get_history\n",
    "import yfinance as yf\n",
    "from datetime import date, timedelta\n",
    "import dtale\n",
    "\n",
    "import pandas as pd\n",
    "from numba import jit\n",
    "\n",
    "symbols = ['ADANIPORTS', 'ASIANPAINT', 'AUBANK', 'AXISBANK', 'BAJAJ-AUTO', 'BAJAJFINSV', 'BAJFINANCE',\n",
    "             'BANDHANBNK', 'BHARTIARTL', 'BPCL', 'BRITANNIA', 'CIPLA', 'COALINDIA', 'DIVISLAB', 'DRREDDY',\n",
    "             'EICHERMOT', 'FEDERALBNK', 'GRASIM', 'HCLTECH', 'HDFC', 'HDFCBANK', 'HDFCLIFE', 'HEROMOTOCO',\n",
    "             'HINDALCO', 'HINDUNILVR', 'ICICIBANK', 'IDFCFIRSTB', 'INDUSINDBK', 'INFY', 'IOC', 'ITC', 'JSWSTEEL',\n",
    "             'KOTAKBANK', 'LT', 'M&M', 'MARUTI', 'NESTLEIND', 'NTPC', 'ONGC', 'PNB', 'POWERGRID', 'RBLBANK', \n",
    "             'RELIANCE', 'SBILIFE', 'SBIN', 'SHREECEM', 'SUNPHARMA', 'TATACONSUM', 'TATAMOTORS', 'TATASTEEL',\n",
    "             'TCS', 'TECHM', 'TITAN', 'ULTRACEMCO', 'UPL', 'WIPRO']\n",
    "\n",
    "def rv():\n",
    "    today = date.today()\n",
    "    dict_rvol = {}\n",
    "\n",
    "    for company in symbols:\n",
    "        #get company data from about last months  \n",
    "        print(\"Successfully fetched : \", company)\n",
    "#         data = get_history(symbol = company,\n",
    "#                                    start = date(today.year -1 + (today.month-1)//6,(today.month-7)%12+1,1), \n",
    "#                                    end = date.today())\n",
    "        \n",
    "        data = yf.download(company + '.NS', \n",
    "                      start = date(today.year -1 + (today.month-1)//6,(today.month-7)%12+1,1), \n",
    "                      end = date.today(), \n",
    "                      progress=False)\n",
    "                           \n",
    "        data['returns'] = (np.log(data.Close /\n",
    "        data.Close.shift(-1)))\n",
    "\n",
    "        # calculate daily standard deviation of returns\n",
    "        data_7 = data.tail(8)\n",
    "        data_20 = data.tail(21)\n",
    "        data_100 = data.tail(101)\n",
    "\n",
    "        daily_std_7 = np.std(data_7.returns)\n",
    "        daily_std_20 = np.std(data_20.returns)\n",
    "        daily_std_100 = np.std(data_100.returns)\n",
    "\n",
    "        # annualized daily standard deviation\n",
    "        std_7 = daily_std_7 * 252 ** 0.5 * 100\n",
    "        std_20 = daily_std_20 * 252 ** 0.5 * 100\n",
    "        std_100 = daily_std_100 * 252 ** 0.5 * 100\n",
    "        dict_rvol[company] = [std_7,std_20,std_100]\n",
    "\n",
    "    df = pd.DataFrame(dict_rvol.items(), columns=['Symbol', 'Rvol'])\n",
    "    final = pd.DataFrame(df['Rvol'].tolist(), columns=['R-VOL 7','R-VOL 20', 'R-VOL 100'])\n",
    "    final['Symbol'] = df['Symbol']\n",
    "    final['Date'] = date.today()\n",
    "    \n",
    "    return final"
   ]
  },
  {
   "cell_type": "code",
   "execution_count": 9,
   "id": "c998ef43",
   "metadata": {},
   "outputs": [
    {
     "name": "stdout",
     "output_type": "stream",
     "text": [
      "Successfully fetched :  ADANIPORTS\n",
      "Successfully fetched :  ASIANPAINT\n",
      "Successfully fetched :  AUBANK\n",
      "Successfully fetched :  AXISBANK\n",
      "Successfully fetched :  BAJAJ-AUTO\n",
      "Successfully fetched :  BAJAJFINSV\n",
      "Successfully fetched :  BAJFINANCE\n",
      "Successfully fetched :  BANDHANBNK\n",
      "Successfully fetched :  BHARTIARTL\n",
      "Successfully fetched :  BPCL\n",
      "Successfully fetched :  BRITANNIA\n",
      "Successfully fetched :  CIPLA\n",
      "Successfully fetched :  COALINDIA\n",
      "Successfully fetched :  DIVISLAB\n",
      "Successfully fetched :  DRREDDY\n",
      "Successfully fetched :  EICHERMOT\n",
      "Successfully fetched :  FEDERALBNK\n",
      "Successfully fetched :  GRASIM\n",
      "Successfully fetched :  HCLTECH\n",
      "Successfully fetched :  HDFC\n",
      "Successfully fetched :  HDFCBANK\n",
      "Successfully fetched :  HDFCLIFE\n",
      "Successfully fetched :  HEROMOTOCO\n",
      "Successfully fetched :  HINDALCO\n",
      "Successfully fetched :  HINDUNILVR\n",
      "Successfully fetched :  ICICIBANK\n",
      "Successfully fetched :  IDFCFIRSTB\n",
      "Successfully fetched :  INDUSINDBK\n",
      "Successfully fetched :  INFY\n",
      "Successfully fetched :  IOC\n",
      "Successfully fetched :  ITC\n",
      "Successfully fetched :  JSWSTEEL\n",
      "Successfully fetched :  KOTAKBANK\n",
      "Successfully fetched :  LT\n",
      "Successfully fetched :  M&M\n",
      "Successfully fetched :  MARUTI\n",
      "Successfully fetched :  NESTLEIND\n",
      "Successfully fetched :  NTPC\n",
      "Successfully fetched :  ONGC\n",
      "Successfully fetched :  PNB\n",
      "Successfully fetched :  POWERGRID\n",
      "Successfully fetched :  RBLBANK\n",
      "Successfully fetched :  RELIANCE\n",
      "Successfully fetched :  SBILIFE\n",
      "Successfully fetched :  SBIN\n",
      "Successfully fetched :  SHREECEM\n",
      "Successfully fetched :  SUNPHARMA\n",
      "Successfully fetched :  TATACONSUM\n",
      "Successfully fetched :  TATAMOTORS\n",
      "Successfully fetched :  TATASTEEL\n",
      "Successfully fetched :  TCS\n",
      "Successfully fetched :  TECHM\n",
      "Successfully fetched :  TITAN\n",
      "Successfully fetched :  ULTRACEMCO\n",
      "Successfully fetched :  UPL\n",
      "Successfully fetched :  WIPRO\n",
      "CPU times: total: 1.73 s\n",
      "Wall time: 17.9 s\n"
     ]
    }
   ],
   "source": [
    "%time data = rv()"
   ]
  },
  {
   "cell_type": "code",
   "execution_count": 10,
   "id": "95f2d92e",
   "metadata": {},
   "outputs": [
    {
     "data": {
      "text/html": [
       "\n",
       "        <iframe\n",
       "            width=\"100%\"\n",
       "            height=\"475\"\n",
       "            src=\"http://DESKTOP-PF281RH:40000/dtale/iframe/1\"\n",
       "            frameborder=\"0\"\n",
       "            allowfullscreen\n",
       "            \n",
       "        ></iframe>\n",
       "        "
      ],
      "text/plain": [
       "<IPython.lib.display.IFrame at 0x227867955b0>"
      ]
     },
     "metadata": {},
     "output_type": "display_data"
    },
    {
     "data": {
      "text/plain": []
     },
     "execution_count": 10,
     "metadata": {},
     "output_type": "execute_result"
    },
    {
     "name": "stdout",
     "output_type": "stream",
     "text": [
      "Executing shutdown due to inactivity...\n"
     ]
    },
    {
     "name": "stderr",
     "output_type": "stream",
     "text": [
      "2022-02-23 21:27:42,661 - INFO     - Executing shutdown due to inactivity...\n"
     ]
    },
    {
     "name": "stdout",
     "output_type": "stream",
     "text": [
      "Executing shutdown...\n"
     ]
    },
    {
     "name": "stderr",
     "output_type": "stream",
     "text": [
      "2022-02-23 21:27:47,014 - INFO     - Executing shutdown...\n"
     ]
    }
   ],
   "source": [
    "dtale.show(data)"
   ]
  },
  {
   "cell_type": "code",
   "execution_count": 3,
   "id": "401b26db",
   "metadata": {},
   "outputs": [
    {
     "data": {
      "text/plain": [
       "56"
      ]
     },
     "execution_count": 3,
     "metadata": {},
     "output_type": "execute_result"
    }
   ],
   "source": [
    "len(symbols)"
   ]
  },
  {
   "cell_type": "code",
   "execution_count": null,
   "id": "08b332d1",
   "metadata": {},
   "outputs": [],
   "source": []
  }
 ],
 "metadata": {
  "kernelspec": {
   "display_name": "Python 3 (ipykernel)",
   "language": "python",
   "name": "python3"
  },
  "language_info": {
   "codemirror_mode": {
    "name": "ipython",
    "version": 3
   },
   "file_extension": ".py",
   "mimetype": "text/x-python",
   "name": "python",
   "nbconvert_exporter": "python",
   "pygments_lexer": "ipython3",
   "version": "3.9.7"
  }
 },
 "nbformat": 4,
 "nbformat_minor": 5
}
