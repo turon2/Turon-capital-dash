{
 "cells": [
  {
   "cell_type": "markdown",
   "id": "48606b62",
   "metadata": {},
   "source": [
    "## Loading Libraries and establishing connection to the database"
   ]
  },
  {
   "cell_type": "code",
   "execution_count": 1,
   "id": "c359a94f",
   "metadata": {},
   "outputs": [],
   "source": [
    "import pymysql\n",
    "import pandas as pd\n",
    "import yfinance as yf\n",
    "\n",
    "conn = pymysql.connect(host = '130.211.219.71',port=int(3306),user='root',passwd='Nodal@987',db='nodalDB')\n",
    "cur = conn.cursor()"
   ]
  },
  {
   "cell_type": "markdown",
   "id": "c1ce0ca4",
   "metadata": {},
   "source": [
    "## Nifty and Banknifty stocks"
   ]
  },
  {
   "cell_type": "code",
   "execution_count": 2,
   "id": "46f2e015",
   "metadata": {},
   "outputs": [],
   "source": [
    "nifty = pd.read_csv(\"nifty.csv\")\n",
    "banknifty = pd.read_csv(\"banknifty.csv\")"
   ]
  },
  {
   "cell_type": "code",
   "execution_count": 3,
   "id": "014eeac8",
   "metadata": {},
   "outputs": [],
   "source": [
    "nifty_list = nifty['Symbol'].tolist()\n",
    "banknifty_list = banknifty['Symbol'].tolist()"
   ]
  },
  {
   "cell_type": "code",
   "execution_count": 4,
   "id": "7b6a96be",
   "metadata": {},
   "outputs": [
    {
     "name": "stdout",
     "output_type": "stream",
     "text": [
      "['ADANIPORTS', 'ASIANPAINT', 'AXISBANK', 'BAJAJ-AUTO', 'BAJFINANCE', 'BAJAJFINSV', 'BPCL', 'BHARTIARTL', 'BRITANNIA', 'CIPLA', 'COALINDIA', 'DIVISLAB', 'DRREDDY', 'EICHERMOT', 'GRASIM', 'HCLTECH', 'HDFCBANK', 'HDFCLIFE', 'HEROMOTOCO', 'HINDALCO', 'HINDUNILVR', 'HDFC', 'ICICIBANK', 'ITC', 'IOC', 'INDUSINDBK', 'INFY', 'JSWSTEEL', 'KOTAKBANK', 'LT', 'M&M', 'MARUTI', 'NTPC', 'NESTLEIND', 'ONGC', 'POWERGRID', 'RELIANCE', 'SBILIFE', 'SHREECEM', 'SBIN', 'SUNPHARMA', 'TCS', 'TATACONSUM', 'TATAMOTORS', 'TATASTEEL', 'TECHM', 'TITAN', 'UPL', 'ULTRACEMCO', 'WIPRO']\n",
      "50\n",
      "['AUBANK', 'AXISBANK', 'BANDHANBNK', 'FEDERALBNK', 'HDFCBANK', 'ICICIBANK', 'IDFCFIRSTB', 'INDUSINDBK', 'KOTAKBANK', 'PNB', 'RBLBANK', 'SBIN']\n",
      "12\n",
      "['ADANIPORTS', 'ASIANPAINT', 'AUBANK', 'AXISBANK', 'BAJAJ-AUTO', 'BAJAJFINSV', 'BAJFINANCE', 'BANDHANBNK', 'BHARTIARTL', 'BPCL', 'BRITANNIA', 'CIPLA', 'COALINDIA', 'DIVISLAB', 'DRREDDY', 'EICHERMOT', 'FEDERALBNK', 'GRASIM', 'HCLTECH', 'HDFC', 'HDFCBANK', 'HDFCLIFE', 'HEROMOTOCO', 'HINDALCO', 'HINDUNILVR', 'ICICIBANK', 'IDFCFIRSTB', 'INDUSINDBK', 'INFY', 'IOC', 'ITC', 'JSWSTEEL', 'KOTAKBANK', 'LT', 'M&M', 'MARUTI', 'NESTLEIND', 'NTPC', 'ONGC', 'PNB', 'POWERGRID', 'RBLBANK', 'RELIANCE', 'SBILIFE', 'SBIN', 'SHREECEM', 'SUNPHARMA', 'TATACONSUM', 'TATAMOTORS', 'TATASTEEL', 'TCS', 'TECHM', 'TITAN', 'ULTRACEMCO', 'UPL', 'WIPRO']\n",
      "56\n"
     ]
    }
   ],
   "source": [
    "print(nifty_list)\n",
    "print(len(nifty_list))\n",
    "print(banknifty_list)\n",
    "print(len(banknifty_list))\n",
    "final_list = list(sorted(set(nifty_list) | set(banknifty_list)))\n",
    "print(final_list)\n",
    "print(len(final_list))"
   ]
  },
  {
   "cell_type": "markdown",
   "id": "6b6200e8",
   "metadata": {},
   "source": [
    "## Function to add data to the database table"
   ]
  },
  {
   "cell_type": "code",
   "execution_count": null,
   "id": "4840f480",
   "metadata": {},
   "outputs": [],
   "source": [
    "from time import gmtime, strftime\n",
    "\n",
    "def add_data(stock_name = \"\", start_date = \"\", end_date = \"\"):\n",
    "    name = stock_name + \".NS\"\n",
    "    stock = yf.download(name, start=start_date, end=end_date, progress=False,)\n",
    "    stock.dropna(inplace = True)\n",
    "    stock.reset_index(inplace = True)\n",
    "    stock.rename(columns = {'Date':'trading_date', 'Open' : 'open', 'High' : 'high','Low' : 'low','Close' : 'close', 'Adj Close' : 'adj_close', 'Volume' : 'volume'}, inplace = True)\n",
    "    stock_name = stock_name\n",
    "    stock['stock_name'] = [stock_name] * stock.shape[0]\n",
    "    stock['timestamp'] = [strftime(\"%Y-%m-%d %H:%M:%S\", gmtime())] * stock.shape[0]\n",
    "    \n",
    "    for i,row in stock.iterrows():\n",
    "        sql = \"\"\"INSERT INTO nifty_banknifty_stocks_list(trading_date, open, high, low, close, adj_close, volume, stock_name, timestamp) \n",
    "                 VALUES (%s,%s,%s,%s,%s,%s,%s,%s,%s)\"\"\"\n",
    "        cur.execute(sql,tuple(row))\n",
    "        print(\"Record Added\", i)\n",
    "    conn.commit()"
   ]
  },
  {
   "cell_type": "code",
   "execution_count": null,
   "id": "6da891ff",
   "metadata": {
    "scrolled": true
   },
   "outputs": [],
   "source": [
    "for stocks in final_list:\n",
    "    print(\"Trying to add {} in the database\".format(stocks))\n",
    "    add_data(stock_name = stocks,start_date = '2015-01-01',end_date = '2021-11-01')\n",
    "    print(stocks, \"is added successfully to the database.\")"
   ]
  },
  {
   "cell_type": "markdown",
   "id": "112ce094",
   "metadata": {},
   "source": [
    "## Fetching the data from the database table"
   ]
  },
  {
   "cell_type": "code",
   "execution_count": null,
   "id": "c96e935f",
   "metadata": {},
   "outputs": [],
   "source": [
    "df = pd.read_sql_query(\"SELECT * FROM y_finance_daily \",conn)\n",
    "df.head()"
   ]
  },
  {
   "cell_type": "code",
   "execution_count": 6,
   "id": "66781dbc",
   "metadata": {},
   "outputs": [],
   "source": [
    "stock = yf.download(\"TATAMOTORS.NS\", start=\"2022-01-07\", end='2022-01-08', progress=False,)"
   ]
  },
  {
   "cell_type": "code",
   "execution_count": 7,
   "id": "21b4b3cc",
   "metadata": {},
   "outputs": [
    {
     "data": {
      "text/html": [
       "<div>\n",
       "<style scoped>\n",
       "    .dataframe tbody tr th:only-of-type {\n",
       "        vertical-align: middle;\n",
       "    }\n",
       "\n",
       "    .dataframe tbody tr th {\n",
       "        vertical-align: top;\n",
       "    }\n",
       "\n",
       "    .dataframe thead th {\n",
       "        text-align: right;\n",
       "    }\n",
       "</style>\n",
       "<table border=\"1\" class=\"dataframe\">\n",
       "  <thead>\n",
       "    <tr style=\"text-align: right;\">\n",
       "      <th></th>\n",
       "      <th>Open</th>\n",
       "      <th>High</th>\n",
       "      <th>Low</th>\n",
       "      <th>Close</th>\n",
       "      <th>Adj Close</th>\n",
       "      <th>Volume</th>\n",
       "    </tr>\n",
       "    <tr>\n",
       "      <th>Date</th>\n",
       "      <th></th>\n",
       "      <th></th>\n",
       "      <th></th>\n",
       "      <th></th>\n",
       "      <th></th>\n",
       "      <th></th>\n",
       "    </tr>\n",
       "  </thead>\n",
       "  <tbody>\n",
       "    <tr>\n",
       "      <th>2022-01-07</th>\n",
       "      <td>490.049988</td>\n",
       "      <td>495.5</td>\n",
       "      <td>483.75</td>\n",
       "      <td>490.600006</td>\n",
       "      <td>490.600006</td>\n",
       "      <td>15532165</td>\n",
       "    </tr>\n",
       "  </tbody>\n",
       "</table>\n",
       "</div>"
      ],
      "text/plain": [
       "                  Open   High     Low       Close   Adj Close    Volume\n",
       "Date                                                                   \n",
       "2022-01-07  490.049988  495.5  483.75  490.600006  490.600006  15532165"
      ]
     },
     "execution_count": 7,
     "metadata": {},
     "output_type": "execute_result"
    }
   ],
   "source": [
    "stock.head()"
   ]
  },
  {
   "cell_type": "code",
   "execution_count": null,
   "id": "85d3fdfa",
   "metadata": {},
   "outputs": [],
   "source": []
  }
 ],
 "metadata": {
  "kernelspec": {
   "display_name": "Python 3 (ipykernel)",
   "language": "python",
   "name": "python3"
  },
  "language_info": {
   "codemirror_mode": {
    "name": "ipython",
    "version": 3
   },
   "file_extension": ".py",
   "mimetype": "text/x-python",
   "name": "python",
   "nbconvert_exporter": "python",
   "pygments_lexer": "ipython3",
   "version": "3.9.10"
  }
 },
 "nbformat": 4,
 "nbformat_minor": 5
}
