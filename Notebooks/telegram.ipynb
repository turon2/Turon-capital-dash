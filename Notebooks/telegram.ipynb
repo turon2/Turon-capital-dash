{
 "cells": [
  {
   "cell_type": "code",
   "execution_count": 1,
   "id": "5d474828",
   "metadata": {},
   "outputs": [
    {
     "ename": "ModuleNotFoundError",
     "evalue": "No module named 'telegram'",
     "output_type": "error",
     "traceback": [
      "\u001b[1;31m---------------------------------------------------------------------------\u001b[0m",
      "\u001b[1;31mModuleNotFoundError\u001b[0m                       Traceback (most recent call last)",
      "Input \u001b[1;32mIn [1]\u001b[0m, in \u001b[0;36m<module>\u001b[1;34m\u001b[0m\n\u001b[1;32m----> 1\u001b[0m \u001b[38;5;28;01mfrom\u001b[39;00m \u001b[38;5;21;01mtelegram\u001b[39;00m\u001b[38;5;21;01m.\u001b[39;00m\u001b[38;5;21;01mext\u001b[39;00m\u001b[38;5;21;01m.\u001b[39;00m\u001b[38;5;21;01mupdater\u001b[39;00m \u001b[38;5;28;01mimport\u001b[39;00m Updater\n\u001b[0;32m      2\u001b[0m \u001b[38;5;28;01mfrom\u001b[39;00m \u001b[38;5;21;01mtelegram\u001b[39;00m\u001b[38;5;21;01m.\u001b[39;00m\u001b[38;5;21;01mupdate\u001b[39;00m \u001b[38;5;28;01mimport\u001b[39;00m Update\n\u001b[0;32m      3\u001b[0m \u001b[38;5;28;01mfrom\u001b[39;00m \u001b[38;5;21;01mtelegram\u001b[39;00m\u001b[38;5;21;01m.\u001b[39;00m\u001b[38;5;21;01mext\u001b[39;00m\u001b[38;5;21;01m.\u001b[39;00m\u001b[38;5;21;01mcallbackcontext\u001b[39;00m \u001b[38;5;28;01mimport\u001b[39;00m CallbackContext\n",
      "\u001b[1;31mModuleNotFoundError\u001b[0m: No module named 'telegram'"
     ]
    }
   ],
   "source": [
    "from telegram.ext.updater import Updater\n",
    "from telegram.update import Update\n",
    "from telegram.ext.callbackcontext import CallbackContext\n",
    "from telegram.ext.commandhandler import CommandHandler\n",
    "from telegram.ext.messagehandler import MessageHandler\n",
    "from telegram.ext.filters import Filters\n",
    "  \n",
    "updater = Updater(\"5275550251:AAEBsSgk89l5a94F7IAj1eNw91k6I8iQQPw\",\n",
    "                  use_context=True)\n",
    "  \n",
    "  \n",
    "def start(update: Update, context: CallbackContext):\n",
    "    update.message.reply_text(\n",
    "        \"Hello \\U0001F920, Welcome to the Bot \\U0001F603.Please write help to see the live scripts scheduled.\")\n",
    "  \n",
    "def help(update: Update, context: CallbackContext):\n",
    "    update.message.reply_text(\"\"\"Available Scripts : Live!! \\U0001F64C - To get the Info about live scripts\"\"\")\n",
    "  \n",
    "  \n",
    "def gmail_url(update: Update, context: CallbackContext):\n",
    "    update.message.reply_text(\n",
    "        \"Your gmail link here (I am not\\\n",
    "        giving mine one for security reasons)\")\n",
    "  \n",
    "  \n",
    "def live(update: Update, context: CallbackContext):\n",
    "    update.message.reply_text(\"The live screener script is scheduled at 10am IST,11am IST,12pm IST,1pm IST,2pm IST,3pm IST\")\n",
    "  \n",
    "  \n",
    "def unknown(update: Update, context: CallbackContext):\n",
    "    update.message.reply_text(\n",
    "        \"Sorry '%s' is not a valid command\" % update.message.text)\n",
    "  \n",
    "  \n",
    "def unknown_text(update: Update, context: CallbackContext):\n",
    "    update.message.reply_text(\n",
    "        \"Sorry I can't recognize you , you said '%s'\" % update.message.text)\n",
    "  \n",
    "  \n",
    "updater.dispatcher.add_handler(CommandHandler('start', start))\n",
    "updater.dispatcher.add_handler(CommandHandler('live', live))\n",
    "updater.dispatcher.add_handler(CommandHandler('help', help))\n",
    "updater.dispatcher.add_handler(MessageHandler(Filters.text, unknown))\n",
    "updater.dispatcher.add_handler(MessageHandler(\n",
    "    Filters.command, unknown))  # Filters out unknown commands\n",
    "  \n",
    "# Filters out unknown messages.\n",
    "updater.dispatcher.add_handler(MessageHandler(Filters.text, unknown_text))\n",
    "  \n",
    "updater.start_polling()"
   ]
  },
  {
   "cell_type": "code",
   "execution_count": 4,
   "id": "c6157672",
   "metadata": {},
   "outputs": [
    {
     "name": "stdout",
     "output_type": "stream",
     "text": [
      "😃\n"
     ]
    }
   ],
   "source": [
    "print(\"\\U0001F603\")"
   ]
  },
  {
   "cell_type": "code",
   "execution_count": null,
   "id": "93b2713f",
   "metadata": {},
   "outputs": [],
   "source": []
  }
 ],
 "metadata": {
  "kernelspec": {
   "display_name": "Python 3 (ipykernel)",
   "language": "python",
   "name": "python3"
  },
  "language_info": {
   "codemirror_mode": {
    "name": "ipython",
    "version": 3
   },
   "file_extension": ".py",
   "mimetype": "text/x-python",
   "name": "python",
   "nbconvert_exporter": "python",
   "pygments_lexer": "ipython3",
   "version": "3.9.7"
  }
 },
 "nbformat": 4,
 "nbformat_minor": 5
}
